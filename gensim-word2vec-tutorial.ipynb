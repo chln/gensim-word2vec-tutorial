{
 "metadata": {
  "kernelspec": {
   "display_name": "Python 3",
   "language": "python",
   "name": "python3"
  },
  "language_info": {
   "name": "python",
   "version": "3.6.6",
   "mimetype": "text/x-python",
   "codemirror_mode": {
    "name": "ipython",
    "version": 3
   },
   "pygments_lexer": "ipython3",
   "nbconvert_exporter": "python",
   "file_extension": ".py"
  }
 },
 "nbformat_minor": 4,
 "nbformat": 4,
 "cells": [
  {
   "cell_type": "markdown",
   "source": [
    "# Gensim Word2Vec Tutorial"
   ],
   "metadata": {
    "_uuid": "84163f3ca19c0b7c9fda47121b3bc4cadfaf1fcc"
   }
  },
  {
   "cell_type": "markdown",
   "source": [
    "\n",
    "<img src=\"https://images.freeimages.com/images/large-previews/2b9/letters-1-yes-1188348.jpg\" alt=\"drawing\" width=\"350\"/>"
   ],
   "metadata": {
    "_uuid": "6721f3a77cbc903d996b88c42f22c3e5e920e909"
   }
  },
  {
   "cell_type": "markdown",
   "source": [
    "# Motivation\n",
    "\n",
    "As I started working at [Supportiv](http://www.supportiv.com), the support network for instant peer support, a few months ago, I began looking into Language Models and Word2Vec particularly. A python native, I naturally decided to focus on Gensim's implementation of Word2Vec, and went on to look for tutorials on the web. As all good data scientists, I directly applied and reproduced the code samples from multiple website. Confused and often disappointed by the results I got, I went deeper and deeper, from stackoverflow threads, to Gensim's Google Groups, onto the documentation of the library, to try and understand what went wrong in my approach. After weeks of hard labor, I finally managed to get decent results, but I was frustrated by these online tutorials which were, for the most part, misleading.\n",
    "\n",
    "What troubled me the most in these online tutorials was their mismanagement of the model training: the code worked, and I got results which appeared to be decent at first, but the more I looked into them, the more disturbing they were. I wasted a lot of time figuring out what was wrong.\n",
    "\n",
    "Another issue I had with these tutorials was the data preparation step: too often, the authors chose to load an existing preprocessed dataset, use a toy example or skip this part. However, I always thought that one of the most important parts of the creation of a Word2Vec model was then missing. During my experimentations, I noticed that lemmatizing the sentences or looking for phrases/bigrams in them had a big impact over the results and performance of my models. Though the influence of the preprocessing varies with each dataset and application, I thought I would include the data preparation steps in this tutorial and use the great spaCy library along with it.\n",
    "\n",
    "I am not the only one annoyed by some of these [issues](https://groups.google.com/d/msg/gensim/jom4JFt7EV8/y5fjhupbAgAJ), so I decided to write my own tutorial.\n",
    "\n",
    "I do not pledge that it is perfect, nor the best way to implement Word2Vec, simply that it is better than a good chunk of what is out there 😉"
   ],
   "metadata": {
    "_uuid": "9e858d8c6e56ee78629e1cc21ce8fee6dc3cec0b"
   }
  },
  {
   "cell_type": "markdown",
   "source": [
    "# Plan\n",
    "\n",
    "1. [Briefing about Word2Vec](#Briefing-about-Word2Vec:)\n",
    "    * [Purpose of the tutorial](#Purpose-of-the-tutorial:)\n",
    "    * [Brief explanation](#Brief-explanation:)\n",
    "\n",
    "2. [Getting Started](#Getting-Started)\n",
    "    * [Setting up the environment](#Setting-up-the-environment:)\n",
    "    * [The data](#The-data:)\n",
    "3. [Preprocessing](#Preprocessing)\n",
    "    * [Cleaning](#Cleaning)\n",
    "    * [Bigrams](#Bigrams)\n",
    "    * [Most frequent words](#Most-Frequent-Words)\n",
    "    \n",
    "4. [Training the Model](#Training-the-model)\n",
    "    * [Gensim Word2Vec Implementation](#Gensim-Word2Vec-Implementation:)\n",
    "    * [Why I seperate the training of the model in 3 steps](#Why-I-seperate-the-training-of-the-model-in-3-steps:)\n",
    "    * [Training the model](#Training-the-model)\n",
    "        * [The parameters](#The-parameters)\n",
    "        * [Building the vocabulary table](#Building-the-Vocabulary-Table)\n",
    "        * [Training of the model](#Training-of-the-model)\n",
    "        * [Saving the model](#Saving-the-model:)\n",
    "5. [Exploring the Model](#Exploring-the-model)\n",
    "    * [Most similar to](#Most-similar-to:)\n",
    "    * [Similarities](#Similarities:)\n",
    "    * [Odd-one-out](#Odd-One-Out:)\n",
    "    * [Analogy difference](#Analogy-difference:)\n",
    "    * [t-SNE visualizations](#t-SNE-visualizations:)\n",
    "        * [10 Most similar words vs. 8 Random words](#10-Most-similar-words-vs.-8-Random-words:)\n",
    "        * [10 Most similar words vs. 10 Most dissimilar](#10-Most-similar-words-vs.-10-Most-dissimilar:)\n",
    "        * [10 Most similar words vs. 11th to 20th Most similar words](#10-Most-similar-words-vs.-11th-to-20th-Most-similar-words:)\n",
    "6. [Final Thoughts](#Final-Thoughts)\n",
    "7. [Material for more in depths understanding](#Material-for-more-in-depths-understanding:)\n",
    "8. [Acknowledgements](#Acknowledgements)\n",
    "9. [References](#References:)\n",
    "10. [End](#End)"
   ],
   "metadata": {
    "_uuid": "aa10f4823faa729e96f15bb865e9f20769ea7a4b"
   }
  },
  {
   "cell_type": "markdown",
   "source": [
    "# Briefing about Word2Vec:\n",
    "\n",
    "<img src=\"http://mccormickml.com/assets/word2vec/skip_gram_net_arch.png\" alt=\"drawing\" width=\"550\"/>\n",
    "\n",
    "[[1]](#References:)\n",
    "\n",
    "\n",
    "## Purpose of the tutorial:\n",
    "As I said before, this tutorial focuses on the right use of the Word2Vec package from the Gensim libray; therefore, I am not going to explain the concepts and ideas behind Word2Vec here. I am simply going to give a very brief explanation, and provide you with links to good, in depth tutorials.\n",
    "\n",
    "## Brief explanation:\n",
    "\n",
    "Word2Vec was introduced in two [papers](#Material-for-more-in-depths-understanding:) between September and October 2013, by a team of researchers at Google. Along with the papers, the researchers published their implementation in C. The Python implementation was done soon after the 1st paper, by [Gensim](https://radimrehurek.com/gensim/index.html). \n",
    "\n",
    "The underlying assumption of Word2Vec is that two words sharing similar contexts also share a similar meaning and consequently a similar vector representation from the model. For instance: \"dog\", \"puppy\" and \"pup\" are often used in similar situations, with similar surrounding words like \"good\", \"fluffy\" or \"cute\", and according to Word2Vec they will therefore share a similar vector representation.<br>\n",
    "\n",
    "From this assumption, Word2Vec can be used to find out the relations between words in a dataset, compute the similarity between them, or use the vector representation of those words as input for other applications such as text classification or clustering.\n",
    "\n",
    "# Getting Started\n",
    "\n",
    "## Setting up the environment:\n",
    "\n",
    "`python==3.6.3`\n",
    "\n",
    "Libraries used:\n",
    " * `xlrd==1.1.0`: https://pypi.org/project/xlrd/\n",
    " * `spaCy==2.0.12`: https://spacy.io/usage/\n",
    " * `gensim==3.4.0`: https://radimrehurek.com/gensim/install.html\n",
    " * `scikit-learn==0.19.1`: http://scikit-learn.org/stable/install.html\n",
    " * `seaborn==0.8`: https://seaborn.pydata.org/installing.html"
   ],
   "metadata": {
    "_uuid": "7d96105f0c90bf052b2afdb684bf31549e1e6c81"
   }
  },
  {
   "cell_type": "code",
   "source": [
    "import re  # For preprocessing\n",
    "import pandas as pd  # For data handling\n",
    "from time import time  # To time our operations\n",
    "from collections import defaultdict  # For word frequency\n",
    "\n",
    "import spacy  # For preprocessing\n",
    "\n",
    "import logging  # Setting up the loggings to monitor gensim\n",
    "logging.basicConfig(format=\"%(levelname)s - %(asctime)s: %(message)s\", datefmt= '%H:%M:%S', level=logging.INFO)"
   ],
   "metadata": {
    "_uuid": "cc7b3e6ca62670ff13626705402f626778487204",
    "execution": {
     "iopub.status.busy": "2023-03-28T08:03:09.480421Z",
     "iopub.execute_input": "2023-03-28T08:03:09.480783Z",
     "iopub.status.idle": "2023-03-28T08:03:10.035365Z",
     "shell.execute_reply.started": "2023-03-28T08:03:09.480702Z",
     "shell.execute_reply": "2023-03-28T08:03:10.033905Z"
    },
    "trusted": true
   },
   "execution_count": 1,
   "outputs": []
  },
  {
   "cell_type": "markdown",
   "source": [
    "<img src=\"https://upload.wikimedia.org/wikipedia/commons/4/44/Logo_The_Simpsons.svg\" alt=\"drawing\" width=\"400\"/>\n",
    "\n",
    "## The data:\n",
    "I chose to play with the script from the Simpsons, both because I love the Simpsons and because with more than 150k lines of dialogues, the dataset was substantial!\n",
    "\n",
    "This dataset contains the characters, locations, episode details, and script lines for approximately 600 Simpsons episodes, dating back to 1989. It can be found here: https://www.kaggle.com/ambarish/fun-in-text-mining-with-simpsons/data (~25MB)"
   ],
   "metadata": {
    "_uuid": "8ec7ce784f6d9e7f71e2b5789b1e65ec4414628b"
   }
  },
  {
   "cell_type": "markdown",
   "source": [
    "# Preprocessing\n",
    "\n",
    "We keep only two columns:\n",
    "* `raw_character_text`: the character who speaks (can be useful when monitoring the preprocessing steps)\n",
    "* `spoken_words`: the raw text from the line of dialogue\n",
    "\n",
    "We do not keep `normalized_text` because we want to do our own preprocessing.\n",
    "\n",
    "You can find the resulting file here: https://www.kaggle.com/pierremegret/dialogue-lines-of-the-simpsons"
   ],
   "metadata": {
    "_uuid": "0c36323d9aa62f74ab348cda5ee0f571aa1d4a96"
   }
  },
  {
   "cell_type": "code",
   "source": [
    "df = pd.read_csv('./input/simpsons_dataset.csv')\n",
    "df.shape"
   ],
   "metadata": {
    "_uuid": "6453b9c3f797e51923e030090ead659253f4e459",
    "execution": {
     "iopub.status.busy": "2023-03-28T08:04:24.800059Z",
     "iopub.execute_input": "2023-03-28T08:04:24.800670Z",
     "iopub.status.idle": "2023-03-28T08:04:25.319899Z",
     "shell.execute_reply.started": "2023-03-28T08:04:24.800618Z",
     "shell.execute_reply": "2023-03-28T08:04:25.319048Z"
    },
    "trusted": true
   },
   "execution_count": 2,
   "outputs": [
    {
     "execution_count": 2,
     "output_type": "execute_result",
     "data": {
      "text/plain": "(158314, 2)"
     },
     "metadata": {}
    }
   ]
  },
  {
   "cell_type": "code",
   "source": "df.head()",
   "metadata": {
    "_uuid": "c6c6bf4462fb4bc00c2abdbf65eced888219f364",
    "execution": {
     "iopub.status.busy": "2023-03-28T08:04:30.134684Z",
     "iopub.execute_input": "2023-03-28T08:04:30.135327Z",
     "iopub.status.idle": "2023-03-28T08:04:30.163236Z",
     "shell.execute_reply.started": "2023-03-28T08:04:30.135252Z",
     "shell.execute_reply": "2023-03-28T08:04:30.161917Z"
    },
    "trusted": true
   },
   "execution_count": 3,
   "outputs": [
    {
     "execution_count": 3,
     "output_type": "execute_result",
     "data": {
      "text/plain": "        raw_character_text                                       spoken_words\n0              Miss Hoover  No, actually, it was a little of both. Sometim...\n1             Lisa Simpson                             Where's Mr. Bergstrom?\n2              Miss Hoover  I don't know. Although I'd sure like to talk t...\n3             Lisa Simpson                         That life is worth living.\n4  Edna Krabappel-Flanders  The polls will be open from now until the end ...",
      "text/html": "<div>\n<style scoped>\n    .dataframe tbody tr th:only-of-type {\n        vertical-align: middle;\n    }\n\n    .dataframe tbody tr th {\n        vertical-align: top;\n    }\n\n    .dataframe thead th {\n        text-align: right;\n    }\n</style>\n<table border=\"1\" class=\"dataframe\">\n  <thead>\n    <tr style=\"text-align: right;\">\n      <th></th>\n      <th>raw_character_text</th>\n      <th>spoken_words</th>\n    </tr>\n  </thead>\n  <tbody>\n    <tr>\n      <th>0</th>\n      <td>Miss Hoover</td>\n      <td>No, actually, it was a little of both. Sometim...</td>\n    </tr>\n    <tr>\n      <th>1</th>\n      <td>Lisa Simpson</td>\n      <td>Where's Mr. Bergstrom?</td>\n    </tr>\n    <tr>\n      <th>2</th>\n      <td>Miss Hoover</td>\n      <td>I don't know. Although I'd sure like to talk t...</td>\n    </tr>\n    <tr>\n      <th>3</th>\n      <td>Lisa Simpson</td>\n      <td>That life is worth living.</td>\n    </tr>\n    <tr>\n      <th>4</th>\n      <td>Edna Krabappel-Flanders</td>\n      <td>The polls will be open from now until the end ...</td>\n    </tr>\n  </tbody>\n</table>\n</div>"
     },
     "metadata": {}
    }
   ]
  },
  {
   "cell_type": "markdown",
   "source": "The missing values comes from the part of the script where something happens, but with no dialogue. For instance \"(Springfield Elementary School: EXT. ELEMENTARY - SCHOOL PLAYGROUND - AFTERNOON)\"",
   "metadata": {
    "_uuid": "caf6838463d56f79e92d87d5a3827fcd5f04fc54"
   }
  },
  {
   "cell_type": "code",
   "source": "df.isnull().sum()",
   "metadata": {
    "_uuid": "3a15727caeba1c8d10573456640d0b8b9f2f2e2d",
    "execution": {
     "iopub.status.busy": "2023-03-28T08:04:34.365997Z",
     "iopub.execute_input": "2023-03-28T08:04:34.366409Z",
     "iopub.status.idle": "2023-03-28T08:04:34.403410Z",
     "shell.execute_reply.started": "2023-03-28T08:04:34.366333Z",
     "shell.execute_reply": "2023-03-28T08:04:34.401663Z"
    },
    "trusted": true
   },
   "execution_count": 4,
   "outputs": [
    {
     "execution_count": 4,
     "output_type": "execute_result",
     "data": {
      "text/plain": "raw_character_text    17814\nspoken_words          26459\ndtype: int64"
     },
     "metadata": {}
    }
   ]
  },
  {
   "cell_type": "markdown",
   "source": "Removing the missing values:",
   "metadata": {
    "_uuid": "885a555596d7484841ea54c94405d03d90572396"
   }
  },
  {
   "cell_type": "code",
   "source": "df = df.dropna().reset_index(drop=True)\ndf.isnull().sum()",
   "metadata": {
    "_uuid": "82cb38f176526679f66ee31e11cfe4f5eebdab51",
    "execution": {
     "iopub.status.busy": "2023-03-28T08:04:38.937312Z",
     "iopub.execute_input": "2023-03-28T08:04:38.937866Z",
     "iopub.status.idle": "2023-03-28T08:04:39.012095Z",
     "shell.execute_reply.started": "2023-03-28T08:04:38.937606Z",
     "shell.execute_reply": "2023-03-28T08:04:39.010955Z"
    },
    "trusted": true
   },
   "execution_count": 5,
   "outputs": [
    {
     "execution_count": 5,
     "output_type": "execute_result",
     "data": {
      "text/plain": "raw_character_text    0\nspoken_words          0\ndtype: int64"
     },
     "metadata": {}
    }
   ]
  },
  {
   "cell_type": "markdown",
   "source": "## Cleaning:\nWe are lemmatizing and removing the stopwords and non-alphabetic characters for each line of dialogue.",
   "metadata": {
    "_uuid": "7f07dca2a2656dcd9e0c315afa36af32a992eef7"
   }
  },
  {
   "cell_type": "code",
   "source": "nlp = spacy.load('en', disable=['ner', 'parser']) # disabling Named Entity Recognition for speed\n\ndef cleaning(doc):\n    # Lemmatizes and removes stopwords\n    # doc needs to be a spacy Doc object\n    txt = [token.lemma_ for token in doc if not token.is_stop]\n    # Word2Vec uses context words to learn the vector representation of a target word,\n    # if a sentence is only one or two words long,\n    # the benefit for the training is very small\n    if len(txt) > 2:\n        return ' '.join(txt)",
   "metadata": {
    "_uuid": "b26a0c01c5701630d3951cfc808a9d944eea6371",
    "execution": {
     "iopub.status.busy": "2023-03-28T08:04:53.393663Z",
     "iopub.execute_input": "2023-03-28T08:04:53.394059Z",
     "iopub.status.idle": "2023-03-28T08:04:53.906625Z",
     "shell.execute_reply.started": "2023-03-28T08:04:53.394004Z",
     "shell.execute_reply": "2023-03-28T08:04:53.905345Z"
    },
    "trusted": true
   },
   "execution_count": 7,
   "outputs": []
  },
  {
   "cell_type": "markdown",
   "source": "Removes non-alphabetic characters:",
   "metadata": {
    "_uuid": "f686964722eede40e5961cd232aee7b6dd587bd1"
   }
  },
  {
   "cell_type": "code",
   "source": "brief_cleaning = (re.sub(\"[^A-Za-z']+\", ' ', str(row)).lower() for row in df['spoken_words'])",
   "metadata": {
    "_uuid": "b45598934171607242ca7d50f8c5f7c91411aace",
    "execution": {
     "iopub.status.busy": "2023-03-28T08:05:16.780314Z",
     "iopub.execute_input": "2023-03-28T08:05:16.780904Z",
     "iopub.status.idle": "2023-03-28T08:05:16.790800Z",
     "shell.execute_reply.started": "2023-03-28T08:05:16.780829Z",
     "shell.execute_reply": "2023-03-28T08:05:16.789527Z"
    },
    "trusted": true
   },
   "execution_count": 9,
   "outputs": []
  },
  {
   "cell_type": "markdown",
   "source": "Taking advantage of spaCy .pipe() attribute to speed-up the cleaning process:",
   "metadata": {
    "_uuid": "2360160a7f326a32d56f2f18782d7ce2f4ac1def"
   }
  },
  {
   "cell_type": "code",
   "source": "t = time()\n\ntxt = [cleaning(doc) for doc in nlp.pipe(brief_cleaning, batch_size=5000, n_threads=-1)]\n\nprint('Time to clean up everything: {} mins'.format(round((time() - t) / 60, 2)))",
   "metadata": {
    "_uuid": "fa44ca458c970ca229426779e6ffcd46c2de313c",
    "execution": {
     "iopub.status.busy": "2023-03-28T08:05:21.118762Z",
     "iopub.execute_input": "2023-03-28T08:05:21.119181Z",
     "iopub.status.idle": "2023-03-28T08:07:32.348640Z",
     "shell.execute_reply.started": "2023-03-28T08:05:21.119110Z",
     "shell.execute_reply": "2023-03-28T08:07:32.347657Z"
    },
    "trusted": true
   },
   "execution_count": 10,
   "outputs": [
    {
     "name": "stdout",
     "text": "Time to clean up everything: 2.19 mins\n",
     "output_type": "stream"
    }
   ]
  },
  {
   "cell_type": "markdown",
   "source": "Put the results in a DataFrame to remove missing values and duplicates:",
   "metadata": {
    "_uuid": "65ec76c60f9fe93bba6909f4e696f90e3e54710b"
   }
  },
  {
   "cell_type": "code",
   "source": "df_clean = pd.DataFrame({'clean': txt})\ndf_clean = df_clean.dropna().drop_duplicates()\ndf_clean.shape",
   "metadata": {
    "_uuid": "57f1eb8382554bc592d48915a903230b5b6d6cf7",
    "execution": {
     "iopub.status.busy": "2023-03-28T08:07:56.768119Z",
     "iopub.execute_input": "2023-03-28T08:07:56.768469Z",
     "iopub.status.idle": "2023-03-28T08:07:56.847328Z",
     "shell.execute_reply.started": "2023-03-28T08:07:56.768419Z",
     "shell.execute_reply": "2023-03-28T08:07:56.846368Z"
    },
    "trusted": true
   },
   "execution_count": 11,
   "outputs": [
    {
     "execution_count": 11,
     "output_type": "execute_result",
     "data": {
      "text/plain": "(92412, 1)"
     },
     "metadata": {}
    }
   ]
  },
  {
   "cell_type": "markdown",
   "source": "## Bigrams:\nWe are using Gensim Phrases package to automatically detect common phrases (bigrams) from a list of sentences.\nhttps://radimrehurek.com/gensim/models/phrases.html\n\nThe main reason we do this is to catch words like \"mr_burns\" or \"bart_simpson\" !",
   "metadata": {
    "_uuid": "31b4a744059df490ddb47ab6cdec008dc929ede3"
   }
  },
  {
   "cell_type": "code",
   "source": "from gensim.models.phrases import Phrases, Phraser",
   "metadata": {
    "_uuid": "af6d420284a0ff7a7407d4c526754ffe850d6170",
    "execution": {
     "iopub.status.busy": "2023-03-28T08:08:00.453961Z",
     "iopub.execute_input": "2023-03-28T08:08:00.454615Z",
     "iopub.status.idle": "2023-03-28T08:08:01.427530Z",
     "shell.execute_reply.started": "2023-03-28T08:08:00.454548Z",
     "shell.execute_reply": "2023-03-28T08:08:01.426429Z"
    },
    "trusted": true
   },
   "execution_count": 12,
   "outputs": [
    {
     "name": "stderr",
     "text": "INFO - 08:08:01: 'pattern' package not found; tag filters are not available for English\n",
     "output_type": "stream"
    }
   ]
  },
  {
   "cell_type": "markdown",
   "source": "As `Phrases()` takes a list of list of words as input:",
   "metadata": {
    "_uuid": "788aec3c82788101db25d4ca6105ee133fecae7c"
   }
  },
  {
   "cell_type": "code",
   "source": "sent = [row.split() for row in df_clean['clean']]",
   "metadata": {
    "_uuid": "f58487ff08d8812622fd7aef36139f1c850add18",
    "execution": {
     "iopub.status.busy": "2023-03-28T08:08:05.004969Z",
     "iopub.execute_input": "2023-03-28T08:08:05.005300Z",
     "iopub.status.idle": "2023-03-28T08:08:05.238054Z",
     "shell.execute_reply.started": "2023-03-28T08:08:05.005249Z",
     "shell.execute_reply": "2023-03-28T08:08:05.236884Z"
    },
    "trusted": true
   },
   "execution_count": 13,
   "outputs": []
  },
  {
   "cell_type": "markdown",
   "source": "Creates the relevant phrases from the list of sentences:",
   "metadata": {
    "_uuid": "bb7766b322cbc1d3381912b890585eb249ac5304"
   }
  },
  {
   "cell_type": "code",
   "source": "phrases = Phrases(sent, min_count=30, progress_per=10000)",
   "metadata": {
    "_uuid": "8befad8c76c54bd2b831b0942a2f626f7d8a6dac",
    "execution": {
     "iopub.status.busy": "2023-03-28T08:08:08.093697Z",
     "iopub.execute_input": "2023-03-28T08:08:08.094053Z",
     "iopub.status.idle": "2023-03-28T08:08:09.693136Z",
     "shell.execute_reply.started": "2023-03-28T08:08:08.093999Z",
     "shell.execute_reply": "2023-03-28T08:08:09.691948Z"
    },
    "trusted": true
   },
   "execution_count": 14,
   "outputs": [
    {
     "name": "stderr",
     "text": "INFO - 08:08:08: collecting all words and their counts\nINFO - 08:08:08: PROGRESS: at sentence #0, processed 0 words and 0 word types\nINFO - 08:08:08: PROGRESS: at sentence #10000, processed 67396 words and 50551 word types\nINFO - 08:08:08: PROGRESS: at sentence #20000, processed 140465 words and 95808 word types\nINFO - 08:08:08: PROGRESS: at sentence #30000, processed 207950 words and 132011 word types\nINFO - 08:08:08: PROGRESS: at sentence #40000, processed 270207 words and 164407 word types\nINFO - 08:08:08: PROGRESS: at sentence #50000, processed 334085 words and 196195 word types\nINFO - 08:08:09: PROGRESS: at sentence #60000, processed 400877 words and 228659 word types\nINFO - 08:08:09: PROGRESS: at sentence #70000, processed 467802 words and 260712 word types\nINFO - 08:08:09: PROGRESS: at sentence #80000, processed 534361 words and 292095 word types\nINFO - 08:08:09: PROGRESS: at sentence #90000, processed 602037 words and 321944 word types\nINFO - 08:08:09: collected 328658 word types from a corpus of 618920 words (unigram + bigrams) and 92412 sentences\nINFO - 08:08:09: using 328658 counts as vocab in Phrases<0 vocab, min_count=30, threshold=10.0, max_vocab_size=40000000>\n",
     "output_type": "stream"
    }
   ]
  },
  {
   "cell_type": "markdown",
   "source": "The goal of Phraser() is to cut down memory consumption of Phrases(), by discarding model state not strictly needed for the bigram detection task:",
   "metadata": {
    "_uuid": "45bae4a953f2ad8951e4efb234e1e357857a33b3"
   }
  },
  {
   "cell_type": "code",
   "source": "bigram = Phraser(phrases)",
   "metadata": {
    "_kg_hide-input": true,
    "_uuid": "b8ae81ba230013aefe7c584338de7376fedf6294",
    "execution": {
     "iopub.status.busy": "2023-03-28T08:08:14.519109Z",
     "iopub.execute_input": "2023-03-28T08:08:14.519521Z",
     "iopub.status.idle": "2023-03-28T08:08:18.866392Z",
     "shell.execute_reply.started": "2023-03-28T08:08:14.519452Z",
     "shell.execute_reply": "2023-03-28T08:08:18.865267Z"
    },
    "trusted": true
   },
   "execution_count": 15,
   "outputs": [
    {
     "name": "stderr",
     "text": "INFO - 08:08:14: source_vocab length 328658\nINFO - 08:08:18: Phraser built with 127 phrasegrams\n",
     "output_type": "stream"
    }
   ]
  },
  {
   "cell_type": "markdown",
   "source": "Transform the corpus based on the bigrams detected:",
   "metadata": {
    "_uuid": "4a58380f19d159688aeee665d1afb96289fdd4b8"
   }
  },
  {
   "cell_type": "code",
   "source": "sentences = bigram[sent]",
   "metadata": {
    "_uuid": "8051b56890c147119db3df529d3cfd3cf675fdca",
    "execution": {
     "iopub.status.busy": "2023-03-28T08:08:24.197956Z",
     "iopub.execute_input": "2023-03-28T08:08:24.198326Z",
     "iopub.status.idle": "2023-03-28T08:08:24.203763Z",
     "shell.execute_reply.started": "2023-03-28T08:08:24.198260Z",
     "shell.execute_reply": "2023-03-28T08:08:24.202063Z"
    },
    "trusted": true
   },
   "execution_count": 16,
   "outputs": []
  },
  {
   "cell_type": "markdown",
   "source": "## Most Frequent Words:\nMainly a sanity check of the effectiveness of the lemmatization, removal of stopwords, and addition of bigrams.",
   "metadata": {
    "_uuid": "a4f81e8bb2c09a67b00cd24db28353eca8ae188c"
   }
  },
  {
   "cell_type": "code",
   "source": "word_freq = defaultdict(int)\nfor sent in sentences:\n    for i in sent:\n        word_freq[i] += 1\nlen(word_freq)",
   "metadata": {
    "_uuid": "eeb8afe1cfcb7ba65bd14d657455600acacf39ba",
    "execution": {
     "iopub.status.busy": "2023-03-28T08:08:28.357349Z",
     "iopub.execute_input": "2023-03-28T08:08:28.357908Z",
     "iopub.status.idle": "2023-03-28T08:08:31.219229Z",
     "shell.execute_reply.started": "2023-03-28T08:08:28.357751Z",
     "shell.execute_reply": "2023-03-28T08:08:31.218025Z"
    },
    "trusted": true
   },
   "execution_count": 17,
   "outputs": [
    {
     "execution_count": 17,
     "output_type": "execute_result",
     "data": {
      "text/plain": "29673"
     },
     "metadata": {}
    }
   ]
  },
  {
   "cell_type": "code",
   "source": "sorted(word_freq, key=word_freq.get, reverse=True)[:10]",
   "metadata": {
    "_uuid": "5b010149150b2b2eaf332d79bcde0649b8a3c2b5",
    "execution": {
     "iopub.status.busy": "2023-03-28T08:08:34.377278Z",
     "iopub.execute_input": "2023-03-28T08:08:34.377671Z",
     "iopub.status.idle": "2023-03-28T08:08:34.407369Z",
     "shell.execute_reply.started": "2023-03-28T08:08:34.377604Z",
     "shell.execute_reply": "2023-03-28T08:08:34.405228Z"
    },
    "trusted": true
   },
   "execution_count": 18,
   "outputs": [
    {
     "execution_count": 18,
     "output_type": "execute_result",
     "data": {
      "text/plain": "['be', 'not', 'oh', 'will', 'like', \"'s\", 'know', 'think', 'hey', 'good']"
     },
     "metadata": {}
    }
   ]
  },
  {
   "cell_type": "markdown",
   "source": "# Training the model\n## Gensim Word2Vec Implementation:\nWe use Gensim implementation of word2vec: https://radimrehurek.com/gensim/models/word2vec.html",
   "metadata": {
    "_uuid": "500ab7b5c84dc006d7945f339c40725a82856fdf"
   }
  },
  {
   "cell_type": "code",
   "source": "import multiprocessing\n\nfrom gensim.models import Word2Vec",
   "metadata": {
    "_uuid": "3269be205cadbad499aa87890893d92da6adc796",
    "execution": {
     "iopub.status.busy": "2023-03-28T08:08:37.679036Z",
     "iopub.execute_input": "2023-03-28T08:08:37.679368Z",
     "iopub.status.idle": "2023-03-28T08:08:37.684132Z",
     "shell.execute_reply.started": "2023-03-28T08:08:37.679315Z",
     "shell.execute_reply": "2023-03-28T08:08:37.682984Z"
    },
    "trusted": true
   },
   "execution_count": 19,
   "outputs": []
  },
  {
   "cell_type": "markdown",
   "source": "## Why I seperate the training of the model in 3 steps:\nI prefer to separate the training in 3 distinctive steps for clarity and monitoring.\n1. `Word2Vec()`: \n>In this first step, I set up the parameters of the model one-by-one. <br>I do not supply the parameter `sentences`, and therefore leave the model uninitialized, purposefully.\n2. `.build_vocab()`: \n>Here it builds the vocabulary from a sequence of sentences and thus initialized the model. <br>With the loggings, I can follow the progress and even more important, the effect of `min_count` and `sample` on the word corpus. I noticed that these two parameters, and in particular `sample`, have a great influence over the performance of a model. Displaying both allows for a more accurate and an easier management of their influence.\n3. `.train()`:\n>Finally, trains the model.<br>\nThe loggings here are mainly useful for monitoring, making sure that no threads are executed instantaneously.",
   "metadata": {
    "_uuid": "7c524bc49c41a6c37f9e754a38797c9501202090"
   }
  },
  {
   "cell_type": "code",
   "source": "cores = multiprocessing.cpu_count() # Count the number of cores in a computer",
   "metadata": {
    "_uuid": "03488d9b68963579c96094aca88a302c9f2753a7",
    "execution": {
     "iopub.status.busy": "2023-03-28T08:08:45.344486Z",
     "iopub.execute_input": "2023-03-28T08:08:45.344823Z",
     "iopub.status.idle": "2023-03-28T08:08:45.349576Z",
     "shell.execute_reply.started": "2023-03-28T08:08:45.344771Z",
     "shell.execute_reply": "2023-03-28T08:08:45.348297Z"
    },
    "trusted": true
   },
   "execution_count": 20,
   "outputs": []
  },
  {
   "cell_type": "markdown",
   "source": "## The parameters:\n\n* `min_count` <font color='purple'>=</font> <font color='green'>int</font> - Ignores all words with total absolute frequency lower than this - (2, 100)\n\n\n* `window` <font color='purple'>=</font> <font color='green'>int</font> - The maximum distance between the current and predicted word within a sentence. E.g. `window` words on the left and `window` words on the left of our target - (2, 10)\n\n\n* `size` <font color='purple'>=</font> <font color='green'>int</font> - Dimensionality of the feature vectors. - (50, 300)\n\n\n* `sample` <font color='purple'>=</font> <font color='green'>float</font> - The threshold for configuring which higher-frequency words are randomly downsampled. Highly influencial.  - (0, 1e-5)\n\n\n* `alpha` <font color='purple'>=</font> <font color='green'>float</font> - The initial learning rate - (0.01, 0.05)\n\n\n* `min_alpha` <font color='purple'>=</font> <font color='green'>float</font> - Learning rate will linearly drop to `min_alpha` as training progresses. To set it: alpha - (min_alpha * epochs) ~ 0.00\n\n\n* `negative` <font color='purple'>=</font> <font color='green'>int</font> - If > 0, negative sampling will be used, the int for negative specifies how many \"noise words\" should be drown. If set to 0, no negative sampling is used. - (5, 20)\n\n\n* `workers` <font color='purple'>=</font> <font color='green'>int</font> - Use these many worker threads to train the model (=faster training with multicore machines)",
   "metadata": {
    "_uuid": "89c305fcd163488441ac2ac6133678bd973b4419"
   }
  },
  {
   "cell_type": "code",
   "source": "w2v_model = Word2Vec(min_count=20,\n                     window=2,\n                     size=300,\n                     sample=6e-5, \n                     alpha=0.03, \n                     min_alpha=0.0007, \n                     negative=20,\n                     workers=cores-1)",
   "metadata": {
    "_uuid": "ad619db82c219d6cb81fad516563feb0c4d474cd",
    "execution": {
     "iopub.status.busy": "2023-03-28T08:08:51.606011Z",
     "iopub.execute_input": "2023-03-28T08:08:51.606332Z",
     "iopub.status.idle": "2023-03-28T08:08:51.611598Z",
     "shell.execute_reply.started": "2023-03-28T08:08:51.606284Z",
     "shell.execute_reply": "2023-03-28T08:08:51.610680Z"
    },
    "trusted": true
   },
   "execution_count": 21,
   "outputs": []
  },
  {
   "cell_type": "markdown",
   "source": "## Building the Vocabulary Table:\nWord2Vec requires us to build the vocabulary table (simply digesting all the words and filtering out the unique words, and doing some basic counts on them):",
   "metadata": {
    "_uuid": "d7e9f1bd338f9e15647b5209ffd8fbb131cd7ee5"
   }
  },
  {
   "cell_type": "code",
   "source": "t = time()\n\nw2v_model.build_vocab(sentences, progress_per=10000)\n\nprint('Time to build vocab: {} mins'.format(round((time() - t) / 60, 2)))",
   "metadata": {
    "_uuid": "66358ad743e05e17dfbed3899af9c41056143daa",
    "execution": {
     "iopub.status.busy": "2023-03-28T08:08:54.872605Z",
     "iopub.execute_input": "2023-03-28T08:08:54.872935Z",
     "iopub.status.idle": "2023-03-28T08:08:57.910943Z",
     "shell.execute_reply.started": "2023-03-28T08:08:54.872890Z",
     "shell.execute_reply": "2023-03-28T08:08:57.909938Z"
    },
    "trusted": true
   },
   "execution_count": 22,
   "outputs": [
    {
     "name": "stderr",
     "text": "INFO - 08:08:54: collecting all words and their counts\nINFO - 08:08:54: PROGRESS: at sentence #0, processed 0 words, keeping 0 word types\nINFO - 08:08:55: PROGRESS: at sentence #10000, processed 65193 words, keeping 9096 word types\nINFO - 08:08:55: PROGRESS: at sentence #20000, processed 136024 words, keeping 13916 word types\nINFO - 08:08:55: PROGRESS: at sentence #30000, processed 201577 words, keeping 16865 word types\nINFO - 08:08:56: PROGRESS: at sentence #40000, processed 262082 words, keeping 19506 word types\nINFO - 08:08:56: PROGRESS: at sentence #50000, processed 324069 words, keeping 21758 word types\nINFO - 08:08:56: PROGRESS: at sentence #60000, processed 388895 words, keeping 23910 word types\nINFO - 08:08:57: PROGRESS: at sentence #70000, processed 454042 words, keeping 25876 word types\nINFO - 08:08:57: PROGRESS: at sentence #80000, processed 518929 words, keeping 27769 word types\nINFO - 08:08:57: PROGRESS: at sentence #90000, processed 584755 words, keeping 29345 word types\nINFO - 08:08:57: collected 29673 word types from a corpus of 601119 raw words and 92412 sentences\nINFO - 08:08:57: Loading a fresh vocabulary\nINFO - 08:08:57: effective_min_count=20 retains 3375 unique words (11% of original 29673, drops 26298)\nINFO - 08:08:57: effective_min_count=20 leaves 515089 word corpus (85% of original 601119, drops 86030)\nINFO - 08:08:57: deleting the raw counts dictionary of 29673 items\nINFO - 08:08:57: sample=6e-05 downsamples 1080 most-common words\nINFO - 08:08:57: downsampling leaves estimated 219321 word corpus (42.6% of prior 515089)\nINFO - 08:08:57: estimated required memory for 3375 words and 300 dimensions: 9787500 bytes\nINFO - 08:08:57: resetting layer weights\n",
     "output_type": "stream"
    },
    {
     "name": "stdout",
     "text": "Time to build vocab: 0.05 mins\n",
     "output_type": "stream"
    }
   ]
  },
  {
   "cell_type": "markdown",
   "source": "## Training of the model:\n_Parameters of the training:_\n* `total_examples` <font color='purple'>=</font> <font color='green'>int</font> - Count of sentences;\n* `epochs` <font color='purple'>=</font> <font color='green'>int</font> - Number of iterations (epochs) over the corpus - [10, 20, 30]",
   "metadata": {
    "_uuid": "63260d82061abb47db7f2f8b23e07ec629adf5a9"
   }
  },
  {
   "cell_type": "code",
   "source": "t = time()\n\nw2v_model.train(sentences, total_examples=w2v_model.corpus_count, epochs=30, report_delay=1)\n\nprint('Time to train the model: {} mins'.format(round((time() - t) / 60, 2)))",
   "metadata": {
    "_uuid": "07a2a047e701e512fd758edff186daadaeea6461",
    "execution": {
     "iopub.status.busy": "2023-03-28T08:09:06.603006Z",
     "iopub.execute_input": "2023-03-28T08:09:06.603912Z",
     "iopub.status.idle": "2023-03-28T08:10:45.446877Z",
     "shell.execute_reply.started": "2023-03-28T08:09:06.603809Z",
     "shell.execute_reply": "2023-03-28T08:10:45.446015Z"
    },
    "trusted": true
   },
   "execution_count": 23,
   "outputs": [
    {
     "name": "stderr",
     "text": "INFO - 08:09:06: training model with 3 workers on 3375 vocabulary and 300 features, using sg=0 hs=0 sample=6e-05 negative=20 window=2\nINFO - 08:09:07: EPOCH 1 - PROGRESS: at 30.45% examples, 67885 words/s, in_qsize 0, out_qsize 0\nINFO - 08:09:08: EPOCH 1 - PROGRESS: at 63.43% examples, 65199 words/s, in_qsize 0, out_qsize 0\nINFO - 08:09:09: EPOCH 1 - PROGRESS: at 95.04% examples, 65714 words/s, in_qsize 0, out_qsize 0\nINFO - 08:09:09: worker thread finished; awaiting finish of 2 more threads\nINFO - 08:09:09: worker thread finished; awaiting finish of 1 more threads\nINFO - 08:09:09: worker thread finished; awaiting finish of 0 more threads\nINFO - 08:09:09: EPOCH - 1 : training on 601119 raw words (219268 effective words) took 3.3s, 66088 effective words/s\nINFO - 08:09:10: EPOCH 2 - PROGRESS: at 30.45% examples, 67492 words/s, in_qsize 0, out_qsize 0\nINFO - 08:09:11: EPOCH 2 - PROGRESS: at 61.73% examples, 66574 words/s, in_qsize 0, out_qsize 0\nINFO - 08:09:13: EPOCH 2 - PROGRESS: at 95.04% examples, 67844 words/s, in_qsize 1, out_qsize 0\nINFO - 08:09:13: worker thread finished; awaiting finish of 2 more threads\nINFO - 08:09:13: worker thread finished; awaiting finish of 1 more threads\nINFO - 08:09:13: worker thread finished; awaiting finish of 0 more threads\nINFO - 08:09:13: EPOCH - 2 : training on 601119 raw words (219459 effective words) took 3.2s, 68179 effective words/s\nINFO - 08:09:14: EPOCH 3 - PROGRESS: at 28.77% examples, 58396 words/s, in_qsize 0, out_qsize 0\nINFO - 08:09:15: EPOCH 3 - PROGRESS: at 61.73% examples, 63168 words/s, in_qsize 0, out_qsize 0\nINFO - 08:09:16: EPOCH 3 - PROGRESS: at 95.04% examples, 65669 words/s, in_qsize 0, out_qsize 0\nINFO - 08:09:16: worker thread finished; awaiting finish of 2 more threads\nINFO - 08:09:16: worker thread finished; awaiting finish of 1 more threads\nINFO - 08:09:16: worker thread finished; awaiting finish of 0 more threads\nINFO - 08:09:16: EPOCH - 3 : training on 601119 raw words (218941 effective words) took 3.3s, 65802 effective words/s\nINFO - 08:09:17: EPOCH 4 - PROGRESS: at 27.07% examples, 61297 words/s, in_qsize 0, out_qsize 0\nINFO - 08:09:18: EPOCH 4 - PROGRESS: at 58.39% examples, 62013 words/s, in_qsize 0, out_qsize 0\nINFO - 08:09:19: EPOCH 4 - PROGRESS: at 90.09% examples, 63700 words/s, in_qsize 0, out_qsize 0\nINFO - 08:09:20: worker thread finished; awaiting finish of 2 more threads\nINFO - 08:09:20: worker thread finished; awaiting finish of 1 more threads\nINFO - 08:09:20: worker thread finished; awaiting finish of 0 more threads\nINFO - 08:09:20: EPOCH - 4 : training on 601119 raw words (219933 effective words) took 3.6s, 61118 effective words/s\nINFO - 08:09:21: EPOCH 5 - PROGRESS: at 30.45% examples, 67103 words/s, in_qsize 0, out_qsize 0\nINFO - 08:09:22: EPOCH 5 - PROGRESS: at 65.09% examples, 68204 words/s, in_qsize 0, out_qsize 0\nINFO - 08:09:23: EPOCH 5 - PROGRESS: at 96.63% examples, 68591 words/s, in_qsize 0, out_qsize 0\nINFO - 08:09:23: worker thread finished; awaiting finish of 2 more threads\nINFO - 08:09:23: worker thread finished; awaiting finish of 1 more threads\nINFO - 08:09:23: worker thread finished; awaiting finish of 0 more threads\nINFO - 08:09:23: EPOCH - 5 : training on 601119 raw words (219201 effective words) took 3.2s, 69033 effective words/s\nINFO - 08:09:24: EPOCH 6 - PROGRESS: at 30.45% examples, 68034 words/s, in_qsize 0, out_qsize 0\nINFO - 08:09:25: EPOCH 6 - PROGRESS: at 65.09% examples, 69123 words/s, in_qsize 0, out_qsize 0\nINFO - 08:09:26: EPOCH 6 - PROGRESS: at 93.44% examples, 66326 words/s, in_qsize 1, out_qsize 0\nINFO - 08:09:26: worker thread finished; awaiting finish of 2 more threads\nINFO - 08:09:26: worker thread finished; awaiting finish of 1 more threads\nINFO - 08:09:26: worker thread finished; awaiting finish of 0 more threads\nINFO - 08:09:26: EPOCH - 6 : training on 601119 raw words (219677 effective words) took 3.3s, 66615 effective words/s\nINFO - 08:09:27: EPOCH 7 - PROGRESS: at 30.45% examples, 65944 words/s, in_qsize 0, out_qsize 0\nINFO - 08:09:28: EPOCH 7 - PROGRESS: at 63.43% examples, 66965 words/s, in_qsize 1, out_qsize 0\nINFO - 08:09:29: EPOCH 7 - PROGRESS: at 95.04% examples, 67785 words/s, in_qsize 0, out_qsize 0\nINFO - 08:09:29: worker thread finished; awaiting finish of 2 more threads\nINFO - 08:09:29: worker thread finished; awaiting finish of 1 more threads\nINFO - 08:09:29: worker thread finished; awaiting finish of 0 more threads\nINFO - 08:09:29: EPOCH - 7 : training on 601119 raw words (219546 effective words) took 3.2s, 68212 effective words/s\nINFO - 08:09:30: EPOCH 8 - PROGRESS: at 30.45% examples, 64648 words/s, in_qsize 0, out_qsize 0\nINFO - 08:09:31: EPOCH 8 - PROGRESS: at 58.39% examples, 60532 words/s, in_qsize 0, out_qsize 0\nINFO - 08:09:32: EPOCH 8 - PROGRESS: at 91.80% examples, 63631 words/s, in_qsize 1, out_qsize 0\nINFO - 08:09:33: worker thread finished; awaiting finish of 2 more threads\nINFO - 08:09:33: worker thread finished; awaiting finish of 1 more threads\nINFO - 08:09:33: worker thread finished; awaiting finish of 0 more threads\nINFO - 08:09:33: EPOCH - 8 : training on 601119 raw words (219363 effective words) took 3.4s, 64322 effective words/s\nINFO - 08:09:34: EPOCH 9 - PROGRESS: at 30.45% examples, 67964 words/s, in_qsize 0, out_qsize 0\nINFO - 08:09:35: EPOCH 9 - PROGRESS: at 63.43% examples, 68042 words/s, in_qsize 0, out_qsize 0\nINFO - 08:09:36: EPOCH 9 - PROGRESS: at 95.04% examples, 68535 words/s, in_qsize 0, out_qsize 0\nINFO - 08:09:36: worker thread finished; awaiting finish of 2 more threads\nINFO - 08:09:36: worker thread finished; awaiting finish of 1 more threads\nINFO - 08:09:36: worker thread finished; awaiting finish of 0 more threads\nINFO - 08:09:36: EPOCH - 9 : training on 601119 raw words (219047 effective words) took 3.2s, 68717 effective words/s\nINFO - 08:09:37: EPOCH 10 - PROGRESS: at 25.38% examples, 56229 words/s, in_qsize 0, out_qsize 0\nINFO - 08:09:38: EPOCH 10 - PROGRESS: at 60.07% examples, 63290 words/s, in_qsize 0, out_qsize 0\nINFO - 08:09:39: EPOCH 10 - PROGRESS: at 93.44% examples, 66028 words/s, in_qsize 0, out_qsize 0\nINFO - 08:09:39: worker thread finished; awaiting finish of 2 more threads\nINFO - 08:09:39: worker thread finished; awaiting finish of 1 more threads\nINFO - 08:09:39: worker thread finished; awaiting finish of 0 more threads\nINFO - 08:09:39: EPOCH - 10 : training on 601119 raw words (219194 effective words) took 3.3s, 66412 effective words/s\nINFO - 08:09:40: EPOCH 11 - PROGRESS: at 30.45% examples, 66709 words/s, in_qsize 0, out_qsize 0\nINFO - 08:09:41: EPOCH 11 - PROGRESS: at 63.43% examples, 66403 words/s, in_qsize 0, out_qsize 0\nINFO - 08:09:42: EPOCH 11 - PROGRESS: at 90.09% examples, 63950 words/s, in_qsize 0, out_qsize 0\nINFO - 08:09:43: worker thread finished; awaiting finish of 2 more threads\nINFO - 08:09:43: worker thread finished; awaiting finish of 1 more threads\nINFO - 08:09:43: worker thread finished; awaiting finish of 0 more threads\nINFO - 08:09:43: EPOCH - 11 : training on 601119 raw words (219482 effective words) took 3.4s, 64621 effective words/s\nINFO - 08:09:44: EPOCH 12 - PROGRESS: at 30.45% examples, 67610 words/s, in_qsize 0, out_qsize 0\nINFO - 08:09:45: EPOCH 12 - PROGRESS: at 65.09% examples, 68538 words/s, in_qsize 0, out_qsize 0\nINFO - 08:09:46: EPOCH 12 - PROGRESS: at 98.21% examples, 69000 words/s, in_qsize 1, out_qsize 0\nINFO - 08:09:46: worker thread finished; awaiting finish of 2 more threads\nINFO - 08:09:46: worker thread finished; awaiting finish of 1 more threads\nINFO - 08:09:46: worker thread finished; awaiting finish of 0 more threads\nINFO - 08:09:46: EPOCH - 12 : training on 601119 raw words (219283 effective words) took 3.2s, 69509 effective words/s\nINFO - 08:09:47: EPOCH 13 - PROGRESS: at 30.45% examples, 67497 words/s, in_qsize 0, out_qsize 0\nINFO - 08:09:48: EPOCH 13 - PROGRESS: at 60.07% examples, 63863 words/s, in_qsize 0, out_qsize 0\nINFO - 08:09:49: EPOCH 13 - PROGRESS: at 86.72% examples, 60955 words/s, in_qsize 0, out_qsize 0\nINFO - 08:09:49: worker thread finished; awaiting finish of 2 more threads\nINFO - 08:09:49: worker thread finished; awaiting finish of 1 more threads\nINFO - 08:09:49: worker thread finished; awaiting finish of 0 more threads\nINFO - 08:09:49: EPOCH - 13 : training on 601119 raw words (219163 effective words) took 3.5s, 62048 effective words/s\nINFO - 08:09:50: EPOCH 14 - PROGRESS: at 32.16% examples, 68929 words/s, in_qsize 0, out_qsize 0\nINFO - 08:09:51: EPOCH 14 - PROGRESS: at 65.09% examples, 68054 words/s, in_qsize 0, out_qsize 0\nINFO - 08:09:52: EPOCH 14 - PROGRESS: at 96.63% examples, 67840 words/s, in_qsize 0, out_qsize 0\nINFO - 08:09:53: worker thread finished; awaiting finish of 2 more threads\nINFO - 08:09:53: worker thread finished; awaiting finish of 1 more threads\nINFO - 08:09:53: worker thread finished; awaiting finish of 0 more threads\nINFO - 08:09:53: EPOCH - 14 : training on 601119 raw words (219808 effective words) took 3.2s, 68345 effective words/s\nINFO - 08:09:54: EPOCH 15 - PROGRESS: at 27.07% examples, 59129 words/s, in_qsize 0, out_qsize 0\nINFO - 08:09:55: EPOCH 15 - PROGRESS: at 60.07% examples, 62563 words/s, in_qsize 0, out_qsize 0\nINFO - 08:09:56: EPOCH 15 - PROGRESS: at 91.80% examples, 64431 words/s, in_qsize 0, out_qsize 0\nINFO - 08:09:56: worker thread finished; awaiting finish of 2 more threads\nINFO - 08:09:56: worker thread finished; awaiting finish of 1 more threads\nINFO - 08:09:56: worker thread finished; awaiting finish of 0 more threads\nINFO - 08:09:56: EPOCH - 15 : training on 601119 raw words (219285 effective words) took 3.4s, 64531 effective words/s\nINFO - 08:09:57: EPOCH 16 - PROGRESS: at 30.45% examples, 68336 words/s, in_qsize 1, out_qsize 0\nINFO - 08:09:58: EPOCH 16 - PROGRESS: at 65.09% examples, 69296 words/s, in_qsize 0, out_qsize 0\nINFO - 08:09:59: EPOCH 16 - PROGRESS: at 93.44% examples, 66759 words/s, in_qsize 1, out_qsize 0\nINFO - 08:09:59: worker thread finished; awaiting finish of 2 more threads\nINFO - 08:09:59: worker thread finished; awaiting finish of 1 more threads\nINFO - 08:09:59: worker thread finished; awaiting finish of 0 more threads\nINFO - 08:09:59: EPOCH - 16 : training on 601119 raw words (219332 effective words) took 3.3s, 67456 effective words/s\nINFO - 08:10:00: EPOCH 17 - PROGRESS: at 32.16% examples, 68222 words/s, in_qsize 0, out_qsize 0\nINFO - 08:10:01: EPOCH 17 - PROGRESS: at 65.09% examples, 68724 words/s, in_qsize 0, out_qsize 0\nINFO - 08:10:02: EPOCH 17 - PROGRESS: at 98.21% examples, 68925 words/s, in_qsize 0, out_qsize 0\nINFO - 08:10:02: worker thread finished; awaiting finish of 2 more threads\nINFO - 08:10:02: worker thread finished; awaiting finish of 1 more threads\nINFO - 08:10:02: worker thread finished; awaiting finish of 0 more threads\nINFO - 08:10:02: EPOCH - 17 : training on 601119 raw words (219136 effective words) took 3.2s, 69383 effective words/s\nINFO - 08:10:03: EPOCH 18 - PROGRESS: at 30.45% examples, 65487 words/s, in_qsize 0, out_qsize 0\nINFO - 08:10:04: EPOCH 18 - PROGRESS: at 60.07% examples, 62988 words/s, in_qsize 0, out_qsize 0\nINFO - 08:10:06: EPOCH 18 - PROGRESS: at 93.44% examples, 65643 words/s, in_qsize 0, out_qsize 0\nINFO - 08:10:06: worker thread finished; awaiting finish of 2 more threads\nINFO - 08:10:06: worker thread finished; awaiting finish of 1 more threads\nINFO - 08:10:06: worker thread finished; awaiting finish of 0 more threads\nINFO - 08:10:06: EPOCH - 18 : training on 601119 raw words (219590 effective words) took 3.3s, 66388 effective words/s\nINFO - 08:10:07: EPOCH 19 - PROGRESS: at 30.45% examples, 66848 words/s, in_qsize 0, out_qsize 0\nINFO - 08:10:08: EPOCH 19 - PROGRESS: at 65.09% examples, 68572 words/s, in_qsize 1, out_qsize 0\nINFO - 08:10:09: EPOCH 19 - PROGRESS: at 98.21% examples, 69866 words/s, in_qsize 0, out_qsize 0\nINFO - 08:10:09: worker thread finished; awaiting finish of 2 more threads\nINFO - 08:10:09: worker thread finished; awaiting finish of 1 more threads\nINFO - 08:10:09: worker thread finished; awaiting finish of 0 more threads\nINFO - 08:10:09: EPOCH - 19 : training on 601119 raw words (219133 effective words) took 3.1s, 70258 effective words/s\nINFO - 08:10:10: EPOCH 20 - PROGRESS: at 32.16% examples, 68434 words/s, in_qsize 0, out_qsize 0\nINFO - 08:10:11: EPOCH 20 - PROGRESS: at 61.73% examples, 64679 words/s, in_qsize 0, out_qsize 0\nINFO - 08:10:12: EPOCH 20 - PROGRESS: at 95.04% examples, 66203 words/s, in_qsize 1, out_qsize 0\nINFO - 08:10:12: worker thread finished; awaiting finish of 2 more threads\nINFO - 08:10:12: worker thread finished; awaiting finish of 1 more threads\nINFO - 08:10:12: worker thread finished; awaiting finish of 0 more threads\nINFO - 08:10:12: EPOCH - 20 : training on 601119 raw words (219339 effective words) took 3.3s, 66673 effective words/s\nINFO - 08:10:13: EPOCH 21 - PROGRESS: at 30.45% examples, 68464 words/s, in_qsize 0, out_qsize 0\nINFO - 08:10:14: EPOCH 21 - PROGRESS: at 65.09% examples, 69319 words/s, in_qsize 0, out_qsize 0\nINFO - 08:10:15: EPOCH 21 - PROGRESS: at 95.04% examples, 67678 words/s, in_qsize 0, out_qsize 0\nINFO - 08:10:15: worker thread finished; awaiting finish of 2 more threads\nINFO - 08:10:15: worker thread finished; awaiting finish of 1 more threads\nINFO - 08:10:15: worker thread finished; awaiting finish of 0 more threads\nINFO - 08:10:15: EPOCH - 21 : training on 601119 raw words (219370 effective words) took 3.2s, 68010 effective words/s\nINFO - 08:10:16: EPOCH 22 - PROGRESS: at 25.38% examples, 57956 words/s, in_qsize 0, out_qsize 0\nINFO - 08:10:17: EPOCH 22 - PROGRESS: at 60.07% examples, 63821 words/s, in_qsize 0, out_qsize 0\nINFO - 08:10:18: EPOCH 22 - PROGRESS: at 91.80% examples, 65694 words/s, in_qsize 0, out_qsize 0\nINFO - 08:10:19: worker thread finished; awaiting finish of 2 more threads\nINFO - 08:10:19: worker thread finished; awaiting finish of 1 more threads\nINFO - 08:10:19: worker thread finished; awaiting finish of 0 more threads\nINFO - 08:10:19: EPOCH - 22 : training on 601119 raw words (219411 effective words) took 3.3s, 66213 effective words/s\nINFO - 08:10:20: EPOCH 23 - PROGRESS: at 30.45% examples, 67341 words/s, in_qsize 0, out_qsize 0\nINFO - 08:10:21: EPOCH 23 - PROGRESS: at 61.73% examples, 66516 words/s, in_qsize 0, out_qsize 0\nINFO - 08:10:22: EPOCH 23 - PROGRESS: at 86.72% examples, 61014 words/s, in_qsize 1, out_qsize 0\nINFO - 08:10:22: worker thread finished; awaiting finish of 2 more threads\nINFO - 08:10:22: worker thread finished; awaiting finish of 1 more threads\nINFO - 08:10:22: worker thread finished; awaiting finish of 0 more threads\nINFO - 08:10:22: EPOCH - 23 : training on 601119 raw words (219541 effective words) took 3.5s, 62390 effective words/s\nINFO - 08:10:23: EPOCH 24 - PROGRESS: at 30.45% examples, 68356 words/s, in_qsize 0, out_qsize 0\nINFO - 08:10:24: EPOCH 24 - PROGRESS: at 65.09% examples, 69264 words/s, in_qsize 0, out_qsize 0\nINFO - 08:10:25: EPOCH 24 - PROGRESS: at 96.63% examples, 68258 words/s, in_qsize 0, out_qsize 0\nINFO - 08:10:25: worker thread finished; awaiting finish of 2 more threads\nINFO - 08:10:25: worker thread finished; awaiting finish of 1 more threads\nINFO - 08:10:25: worker thread finished; awaiting finish of 0 more threads\nINFO - 08:10:25: EPOCH - 24 : training on 601119 raw words (219026 effective words) took 3.2s, 67981 effective words/s\nINFO - 08:10:26: EPOCH 25 - PROGRESS: at 30.45% examples, 68099 words/s, in_qsize 0, out_qsize 0\nINFO - 08:10:28: EPOCH 25 - PROGRESS: at 63.43% examples, 67575 words/s, in_qsize 0, out_qsize 0\nINFO - 08:10:29: EPOCH 25 - PROGRESS: at 93.44% examples, 66134 words/s, in_qsize 0, out_qsize 0\nINFO - 08:10:29: worker thread finished; awaiting finish of 2 more threads\nINFO - 08:10:29: worker thread finished; awaiting finish of 1 more threads\nINFO - 08:10:29: worker thread finished; awaiting finish of 0 more threads\nINFO - 08:10:29: EPOCH - 25 : training on 601119 raw words (219369 effective words) took 3.3s, 66883 effective words/s\nINFO - 08:10:30: EPOCH 26 - PROGRESS: at 30.45% examples, 68324 words/s, in_qsize 0, out_qsize 0\nINFO - 08:10:31: EPOCH 26 - PROGRESS: at 65.09% examples, 69094 words/s, in_qsize 1, out_qsize 0\nINFO - 08:10:32: EPOCH 26 - PROGRESS: at 98.21% examples, 69866 words/s, in_qsize 0, out_qsize 0\nINFO - 08:10:32: worker thread finished; awaiting finish of 2 more threads\nINFO - 08:10:32: worker thread finished; awaiting finish of 1 more threads\nINFO - 08:10:32: worker thread finished; awaiting finish of 0 more threads\nINFO - 08:10:32: EPOCH - 26 : training on 601119 raw words (219095 effective words) took 3.1s, 70311 effective words/s\nINFO - 08:10:33: EPOCH 27 - PROGRESS: at 30.45% examples, 66822 words/s, in_qsize 0, out_qsize 0\nINFO - 08:10:34: EPOCH 27 - PROGRESS: at 60.07% examples, 63763 words/s, in_qsize 1, out_qsize 0\nINFO - 08:10:35: EPOCH 27 - PROGRESS: at 93.44% examples, 66380 words/s, in_qsize 1, out_qsize 0\nINFO - 08:10:35: worker thread finished; awaiting finish of 2 more threads\nINFO - 08:10:35: worker thread finished; awaiting finish of 1 more threads\nINFO - 08:10:35: worker thread finished; awaiting finish of 0 more threads\nINFO - 08:10:35: EPOCH - 27 : training on 601119 raw words (219584 effective words) took 3.3s, 67157 effective words/s\nINFO - 08:10:36: EPOCH 28 - PROGRESS: at 30.45% examples, 68172 words/s, in_qsize 0, out_qsize 0\nINFO - 08:10:37: EPOCH 28 - PROGRESS: at 63.43% examples, 67313 words/s, in_qsize 0, out_qsize 0\nINFO - 08:10:38: EPOCH 28 - PROGRESS: at 96.63% examples, 68549 words/s, in_qsize 0, out_qsize 0\nINFO - 08:10:38: worker thread finished; awaiting finish of 2 more threads\nINFO - 08:10:38: worker thread finished; awaiting finish of 1 more threads\nINFO - 08:10:38: worker thread finished; awaiting finish of 0 more threads\nINFO - 08:10:38: EPOCH - 28 : training on 601119 raw words (219753 effective words) took 3.2s, 68900 effective words/s\nINFO - 08:10:39: EPOCH 29 - PROGRESS: at 27.07% examples, 59187 words/s, in_qsize 0, out_qsize 0\nINFO - 08:10:40: EPOCH 29 - PROGRESS: at 61.73% examples, 64591 words/s, in_qsize 0, out_qsize 0\nINFO - 08:10:41: EPOCH 29 - PROGRESS: at 95.04% examples, 66674 words/s, in_qsize 0, out_qsize 0\nINFO - 08:10:42: worker thread finished; awaiting finish of 2 more threads\nINFO - 08:10:42: worker thread finished; awaiting finish of 1 more threads\nINFO - 08:10:42: worker thread finished; awaiting finish of 0 more threads\nINFO - 08:10:42: EPOCH - 29 : training on 601119 raw words (219058 effective words) took 3.3s, 66975 effective words/s\nINFO - 08:10:43: EPOCH 30 - PROGRESS: at 30.45% examples, 64762 words/s, in_qsize 0, out_qsize 0\nINFO - 08:10:44: EPOCH 30 - PROGRESS: at 65.09% examples, 68202 words/s, in_qsize 0, out_qsize 0\nINFO - 08:10:45: EPOCH 30 - PROGRESS: at 93.44% examples, 65795 words/s, in_qsize 0, out_qsize 0\nINFO - 08:10:45: worker thread finished; awaiting finish of 2 more threads\nINFO - 08:10:45: worker thread finished; awaiting finish of 1 more threads\nINFO - 08:10:45: worker thread finished; awaiting finish of 0 more threads\nINFO - 08:10:45: EPOCH - 30 : training on 601119 raw words (219783 effective words) took 3.3s, 66459 effective words/s\nINFO - 08:10:45: training on a 18033570 raw words (6581170 effective words) took 98.8s, 66589 effective words/s\n",
     "output_type": "stream"
    },
    {
     "name": "stdout",
     "text": "Time to train the model: 1.65 mins\n",
     "output_type": "stream"
    }
   ]
  },
  {
   "cell_type": "markdown",
   "source": "As we do not plan to train the model any further, we are calling init_sims(), which will make the model much more memory-efficient:",
   "metadata": {
    "_uuid": "48e12768512b82c2d5cf6a543e3a9f2515699a22"
   }
  },
  {
   "cell_type": "code",
   "source": "w2v_model.init_sims(replace=True)",
   "metadata": {
    "_uuid": "34dd51c7f2f39d016b982ef81e4df576f6b31bcb",
    "trusted": true
   },
   "execution_count": null,
   "outputs": []
  },
  {
   "cell_type": "markdown",
   "source": "# Exploring the model\n## Most similar to:\n\nHere, we will ask our model to find the word most similar to some of the most iconic characters of the Simpsons!",
   "metadata": {
    "_uuid": "a420d5a98eb860cff1f4bbac8cbe2054459b6200"
   }
  },
  {
   "cell_type": "markdown",
   "source": "<img src=\"https://vignette.wikia.nocookie.net/simpsons/images/0/02/Homer_Simpson_2006.png/revision/latest?cb=20091207194310\" alt=\"drawing\" width=\"130\"/>\n\nLet's see what we get for the show's main character:",
   "metadata": {
    "_uuid": "a8f3cfd8ac88978a4df31c90afa194bd6fa4f3f5"
   }
  },
  {
   "cell_type": "code",
   "source": "w2v_model.wv.most_similar(positive=[\"homer\"])",
   "metadata": {
    "_uuid": "339207a733a1ac42fe60e32a29f9e5d5ca0a9275",
    "execution": {
     "iopub.status.busy": "2023-03-28T08:10:58.592180Z",
     "iopub.execute_input": "2023-03-28T08:10:58.592520Z",
     "iopub.status.idle": "2023-03-28T08:10:58.621112Z",
     "shell.execute_reply.started": "2023-03-28T08:10:58.592473Z",
     "shell.execute_reply": "2023-03-28T08:10:58.619663Z"
    },
    "trusted": true
   },
   "execution_count": 24,
   "outputs": [
    {
     "name": "stderr",
     "text": "INFO - 08:10:58: precomputing L2-norms of word weight vectors\n/opt/conda/lib/python3.6/site-packages/gensim/matutils.py:737: FutureWarning: Conversion of the second argument of issubdtype from `int` to `np.signedinteger` is deprecated. In future, it will be treated as `np.int64 == np.dtype(int).type`.\n  if np.issubdtype(vec.dtype, np.int):\n",
     "output_type": "stream"
    },
    {
     "execution_count": 24,
     "output_type": "execute_result",
     "data": {
      "text/plain": "[('depressed', 0.7159190773963928),\n ('marge', 0.6781899333000183),\n ('hammock', 0.6659461855888367),\n ('bongo', 0.6645945906639099),\n ('rude', 0.641610860824585),\n ('terrific', 0.6412022113800049),\n ('talk', 0.6358668804168701),\n ('asleep', 0.6338576078414917),\n ('brad', 0.6333216428756714),\n ('homie', 0.6330528855323792)]"
     },
     "metadata": {}
    }
   ]
  },
  {
   "cell_type": "markdown",
   "source": "_A small precision here:_<br>\nThe dataset is the Simpsons' lines of dialogue; therefore, when we look at the most similar words from \"homer\" we do **not** necessary get his family members, personality traits, or even his most quotable words. No, we get what other characters (as Homer does not often refers to himself at the 3rd person) said along with \"homer\", such as how he feels or looks (\"depressed\"), where he is (\"hammock\"), or with whom (\"marge\").\n\nLet's see what the bigram \"homer_simpson\" gives us by comparison:",
   "metadata": {
    "_uuid": "3b6686e6fa956a98450259b063b4cf51019a6d0b"
   }
  },
  {
   "cell_type": "code",
   "source": "w2v_model.wv.most_similar(positive=[\"homer_simpson\"])",
   "metadata": {
    "_uuid": "23e5149b19f18f4f2f456d4c72afc5c188bcfba4",
    "execution": {
     "iopub.status.busy": "2023-03-28T08:11:03.897340Z",
     "iopub.execute_input": "2023-03-28T08:11:03.897659Z",
     "iopub.status.idle": "2023-03-28T08:11:03.908104Z",
     "shell.execute_reply.started": "2023-03-28T08:11:03.897617Z",
     "shell.execute_reply": "2023-03-28T08:11:03.906805Z"
    },
    "trusted": true
   },
   "execution_count": 25,
   "outputs": [
    {
     "execution_count": 25,
     "output_type": "execute_result",
     "data": {
      "text/plain": "[('pleased', 0.702466607093811),\n ('select', 0.6972914934158325),\n ('congratulation', 0.6954767107963562),\n ('client', 0.6907245516777039),\n ('kidnap', 0.6866620779037476),\n ('governor', 0.6844685673713684),\n ('sir', 0.6839981079101562),\n ('threat', 0.6705034971237183),\n ('waylon', 0.6679947376251221),\n ('council', 0.6647098064422607)]"
     },
     "metadata": {}
    }
   ]
  },
  {
   "cell_type": "markdown",
   "source": "<img src=\"https://vignette.wikia.nocookie.net/simpsons/images/0/0b/Marge_Simpson.png/revision/latest?cb=20180626055729\" alt=\"drawing\" width=\"150\"/>\n\nWhat about Marge now?",
   "metadata": {
    "_uuid": "0e3e121e022f2f659cf97bba42cecd3f3c9afb01"
   }
  },
  {
   "cell_type": "code",
   "source": "w2v_model.wv.most_similar(positive=[\"marge\"])",
   "metadata": {
    "_uuid": "22595f98c675a9697243b7e826b2840e5fc3e5f5",
    "execution": {
     "iopub.status.busy": "2023-03-28T08:11:07.837634Z",
     "iopub.execute_input": "2023-03-28T08:11:07.838027Z",
     "iopub.status.idle": "2023-03-28T08:11:07.850323Z",
     "shell.execute_reply.started": "2023-03-28T08:11:07.837961Z",
     "shell.execute_reply": "2023-03-28T08:11:07.848240Z"
    },
    "trusted": true
   },
   "execution_count": 26,
   "outputs": [
    {
     "execution_count": 26,
     "output_type": "execute_result",
     "data": {
      "text/plain": "[('homie', 0.6973589658737183),\n ('grownup', 0.6892498731613159),\n ('fault', 0.6878829002380371),\n ('becky', 0.6872349381446838),\n ('anyhoo', 0.6862516403198242),\n ('badly', 0.6834280490875244),\n ('homer', 0.6781899929046631),\n ('arrange', 0.6736912727355957),\n ('reverend_lovejoy', 0.6673688888549805),\n ('snuggle', 0.6626158952713013)]"
     },
     "metadata": {}
    }
   ]
  },
  {
   "cell_type": "markdown",
   "source": "<img src=\"https://vignette.wikia.nocookie.net/simpsons/images/6/65/Bart_Simpson.png/revision/latest?cb=20180319061933\" alt=\"drawing\" width=\"100\"/>\n\nLet's check Bart now:",
   "metadata": {
    "_uuid": "2b4857ff1159695c72c22417cf52dc84e0dfc9ea"
   }
  },
  {
   "cell_type": "code",
   "source": "w2v_model.wv.most_similar(positive=[\"bart\"])",
   "metadata": {
    "_uuid": "ac9ba47738e596dce6552099e76f303f28577943",
    "execution": {
     "iopub.status.busy": "2023-03-28T08:11:13.332352Z",
     "iopub.execute_input": "2023-03-28T08:11:13.332997Z",
     "iopub.status.idle": "2023-03-28T08:11:13.344370Z",
     "shell.execute_reply.started": "2023-03-28T08:11:13.332942Z",
     "shell.execute_reply": "2023-03-28T08:11:13.342787Z"
    },
    "trusted": true
   },
   "execution_count": 27,
   "outputs": [
    {
     "execution_count": 27,
     "output_type": "execute_result",
     "data": {
      "text/plain": "[('lisa', 0.8389055728912354),\n ('homework', 0.758454442024231),\n ('mom', 0.7454119920730591),\n ('hearing', 0.7402807474136353),\n ('upset', 0.7397028207778931),\n ('dr_hibbert', 0.7312904596328735),\n ('creepy', 0.725379228591919),\n ('surprised', 0.7132017612457275),\n ('mom_dad', 0.709503710269928),\n ('ralphie', 0.7030619382858276)]"
     },
     "metadata": {}
    }
   ]
  },
  {
   "cell_type": "markdown",
   "source": "Looks like it is making sense!\n\n<img src=\"https://vignette.wikia.nocookie.net/simpsons/images/9/9d/Groundskeeper_Willie.png/revision/latest?cb=20130424154035\" alt=\"drawing\" width=\"150\"/>\n\nWillie the groundskeeper for the last one:",
   "metadata": {
    "_uuid": "c9afcf59e71f797f8e4d6d4b4ce39e359b19a450"
   }
  },
  {
   "cell_type": "markdown",
   "source": "## Similarities:\nHere, we will see how similar are two words to each other :",
   "metadata": {
    "_uuid": "d8b5937dfd7584f168a33060c435036cad5b390b"
   }
  },
  {
   "cell_type": "code",
   "source": "w2v_model.wv.similarity(\"moe_'s\", 'tavern')",
   "metadata": {
    "_uuid": "367755f5c9e00de4bc5056c978f5b50a38c1368b",
    "execution": {
     "iopub.status.busy": "2023-03-28T08:11:20.423415Z",
     "iopub.execute_input": "2023-03-28T08:11:20.423728Z",
     "iopub.status.idle": "2023-03-28T08:11:20.430812Z",
     "shell.execute_reply.started": "2023-03-28T08:11:20.423688Z",
     "shell.execute_reply": "2023-03-28T08:11:20.429576Z"
    },
    "trusted": true
   },
   "execution_count": 28,
   "outputs": [
    {
     "execution_count": 28,
     "output_type": "execute_result",
     "data": {
      "text/plain": "0.9157193"
     },
     "metadata": {}
    }
   ]
  },
  {
   "cell_type": "markdown",
   "source": "Who could forget Moe's tavern? Not Barney.\n\n<img src=\"https://vignette.wikia.nocookie.net/simpsons/images/6/6c/MaggieSimpson.PNG/revision/latest?cb=20180314210204\" alt=\"drawing\" width=\"100\"/>",
   "metadata": {
    "_uuid": "d31383aa2f6310a38ec671f2ca4b0fcb195551dd"
   }
  },
  {
   "cell_type": "code",
   "source": "w2v_model.wv.similarity('maggie', 'baby')",
   "metadata": {
    "_uuid": "349828078b5a438d93e5494478e88095913dc58e",
    "execution": {
     "iopub.status.busy": "2023-03-28T08:11:33.594114Z",
     "iopub.execute_input": "2023-03-28T08:11:33.594508Z",
     "iopub.status.idle": "2023-03-28T08:11:33.601969Z",
     "shell.execute_reply.started": "2023-03-28T08:11:33.594443Z",
     "shell.execute_reply": "2023-03-28T08:11:33.600892Z"
    },
    "trusted": true
   },
   "execution_count": 29,
   "outputs": [
    {
     "execution_count": 29,
     "output_type": "execute_result",
     "data": {
      "text/plain": "0.7211525"
     },
     "metadata": {}
    }
   ]
  },
  {
   "cell_type": "markdown",
   "source": "Maggie is indeed the most renown baby in the Simpsons!",
   "metadata": {
    "_uuid": "7d7842e5b5cab743db56ff120d75ad3974c429d8"
   }
  },
  {
   "cell_type": "code",
   "source": "w2v_model.wv.similarity('bart', 'nelson')",
   "metadata": {
    "_uuid": "9ee5e2532214b20fef0a597bc5ad355762fcc281",
    "execution": {
     "iopub.status.busy": "2023-03-28T08:11:42.476918Z",
     "iopub.execute_input": "2023-03-28T08:11:42.477446Z",
     "iopub.status.idle": "2023-03-28T08:11:42.483061Z",
     "shell.execute_reply.started": "2023-03-28T08:11:42.477233Z",
     "shell.execute_reply": "2023-03-28T08:11:42.482375Z"
    },
    "trusted": true
   },
   "execution_count": 30,
   "outputs": [
    {
     "execution_count": 30,
     "output_type": "execute_result",
     "data": {
      "text/plain": "0.5695726"
     },
     "metadata": {}
    }
   ]
  },
  {
   "cell_type": "markdown",
   "source": "Bart and Nelson, though friends, are not that close, makes sense!\n\n## Odd-One-Out:\n\nHere, we ask our model to give us the word that does not belong to the list!\n\nBetween Jimbo, Milhouse, and Kearney, who is the one who is not a bully?",
   "metadata": {
    "_uuid": "08a999d758ac687d626b631a8ce393eaa26f41e7"
   }
  },
  {
   "cell_type": "code",
   "source": "w2v_model.wv.doesnt_match(['jimbo', 'milhouse', 'kearney'])",
   "metadata": {
    "_uuid": "d982e44d9c212b5ee09bcaebd050a725ab5e508e",
    "execution": {
     "iopub.status.busy": "2023-03-28T08:11:46.688686Z",
     "iopub.execute_input": "2023-03-28T08:11:46.689190Z",
     "iopub.status.idle": "2023-03-28T08:11:46.696718Z",
     "shell.execute_reply.started": "2023-03-28T08:11:46.689130Z",
     "shell.execute_reply": "2023-03-28T08:11:46.695504Z"
    },
    "trusted": true
   },
   "execution_count": 31,
   "outputs": [
    {
     "execution_count": 31,
     "output_type": "execute_result",
     "data": {
      "text/plain": "'milhouse'"
     },
     "metadata": {}
    }
   ]
  },
  {
   "cell_type": "markdown",
   "source": "Milhouse of course!\n<img src=\"https://vignette.wikia.nocookie.net/simpsons/images/9/91/Milhouse_Van_Houten_2.png/revision/latest?cb=20180429212659\" alt=\"drawing\" width=\"150\"/>\n\nWhat if we compared the friendship between Nelson, Bart, and Milhouse?",
   "metadata": {
    "_uuid": "12d3c035c89718e70c193f095b46e38dccef6b0d"
   }
  },
  {
   "cell_type": "code",
   "source": "w2v_model.wv.doesnt_match([\"nelson\", \"bart\", \"milhouse\"])",
   "metadata": {
    "_uuid": "cafd4a7bec6d6255ea3f5f06df951546c0d783a9",
    "execution": {
     "iopub.status.busy": "2023-03-28T08:11:57.144386Z",
     "iopub.execute_input": "2023-03-28T08:11:57.144718Z",
     "iopub.status.idle": "2023-03-28T08:11:57.151541Z",
     "shell.execute_reply.started": "2023-03-28T08:11:57.144659Z",
     "shell.execute_reply": "2023-03-28T08:11:57.150215Z"
    },
    "trusted": true
   },
   "execution_count": 32,
   "outputs": [
    {
     "execution_count": 32,
     "output_type": "execute_result",
     "data": {
      "text/plain": "'nelson'"
     },
     "metadata": {}
    }
   ]
  },
  {
   "cell_type": "markdown",
   "source": "Seems like Nelson is the odd one here!\n\n<img src=\"https://vignette.wikia.nocookie.net/simpsons/images/4/40/Picture0003.jpg/revision/latest?cb=20110623042517\" alt=\"drawing\" width=\"200\"/>\n\nLast but not least, how is the relationship between Homer and his two sister-in-laws?",
   "metadata": {
    "_uuid": "01c0148dc758db74ed8078ca54e8393ada090c8c"
   }
  },
  {
   "cell_type": "code",
   "source": "w2v_model.wv.doesnt_match(['homer', 'patty', 'selma'])",
   "metadata": {
    "_uuid": "445912f7d89b3cb1550926be161d134e6689f54f",
    "execution": {
     "iopub.status.busy": "2023-03-28T08:12:05.728947Z",
     "iopub.execute_input": "2023-03-28T08:12:05.729325Z",
     "iopub.status.idle": "2023-03-28T08:12:05.736464Z",
     "shell.execute_reply.started": "2023-03-28T08:12:05.729256Z",
     "shell.execute_reply": "2023-03-28T08:12:05.735400Z"
    },
    "trusted": true
   },
   "execution_count": 33,
   "outputs": [
    {
     "execution_count": 33,
     "output_type": "execute_result",
     "data": {
      "text/plain": "'homer'"
     },
     "metadata": {}
    }
   ]
  },
  {
   "cell_type": "markdown",
   "source": "Damn, they really do not like you Homer!\n\n## Analogy difference:\nWhich word is to woman as homer is to marge?",
   "metadata": {
    "_uuid": "df95cdff693e843ab4b4c174fea24029447573cd"
   }
  },
  {
   "cell_type": "code",
   "source": "w2v_model.wv.most_similar(positive=[\"woman\", \"homer\"], negative=[\"marge\"], topn=3)",
   "metadata": {
    "_uuid": "812961e79dde9f2032f708755ca287c0aef838d0",
    "execution": {
     "iopub.status.busy": "2023-03-28T08:12:15.352554Z",
     "iopub.execute_input": "2023-03-28T08:12:15.353260Z",
     "iopub.status.idle": "2023-03-28T08:12:15.365475Z",
     "shell.execute_reply.started": "2023-03-28T08:12:15.353183Z",
     "shell.execute_reply": "2023-03-28T08:12:15.364075Z"
    },
    "trusted": true
   },
   "execution_count": 34,
   "outputs": [
    {
     "execution_count": 34,
     "output_type": "execute_result",
     "data": {
      "text/plain": "[('man', 0.654297947883606),\n ('attractive', 0.5677573680877686),\n ('people', 0.5611014366149902)]"
     },
     "metadata": {}
    }
   ]
  },
  {
   "cell_type": "markdown",
   "source": "\"man\" comes at the first position, that looks about right!\n\nWhich word is to woman as bart is to man?",
   "metadata": {
    "_uuid": "5a4ff4a8c8c582c6d9c704a042e8cc5d18b7bd6c"
   }
  },
  {
   "cell_type": "code",
   "source": "w2v_model.wv.most_similar(positive=[\"woman\", \"bart\"], negative=[\"man\"], topn=3)",
   "metadata": {
    "_uuid": "4cfef57b94b635abb58a4ff191785506c78ec9d9",
    "execution": {
     "iopub.status.busy": "2023-03-28T08:12:57.494979Z",
     "iopub.execute_input": "2023-03-28T08:12:57.495281Z",
     "iopub.status.idle": "2023-03-28T08:12:57.505134Z",
     "shell.execute_reply.started": "2023-03-28T08:12:57.495241Z",
     "shell.execute_reply": "2023-03-28T08:12:57.503959Z"
    },
    "trusted": true
   },
   "execution_count": 35,
   "outputs": [
    {
     "execution_count": 35,
     "output_type": "execute_result",
     "data": {
      "text/plain": "[('lisa', 0.7064138650894165),\n ('surprised', 0.6613724231719971),\n ('pay_attention', 0.6390745639801025)]"
     },
     "metadata": {}
    }
   ]
  },
  {
   "cell_type": "markdown",
   "source": "Lisa is Bart's sister, her male counterpart!\n<img src=\"https://vignette.wikia.nocookie.net/simpsons/images/5/57/Lisa_Simpson2.png/revision/latest?cb=20180319000458\" alt=\"drawing\" width=\"100\"/>",
   "metadata": {
    "_uuid": "ef520bd7dd974d14afcb8e69266579ac0b703714"
   }
  },
  {
   "cell_type": "markdown",
   "source": "### t-SNE visualizations:\nt-SNE is a non-linear dimensionality reduction algorithm that attempts to represent high-dimensional data and the underlying relationships between vectors in a lower-dimensional space.<br>\nHere is a good tutorial on it: https://medium.com/@luckylwk/visualising-high-dimensional-datasets-using-pca-and-t-sne-in-python-8ef87e7915b",
   "metadata": {
    "_uuid": "773c0acc8750ba8e728ff261f2e9ec39694c245c"
   }
  },
  {
   "cell_type": "code",
   "source": "import numpy as np\nimport matplotlib.pyplot as plt\n%matplotlib inline\n \nimport seaborn as sns\nsns.set_style(\"darkgrid\")\n\nfrom sklearn.decomposition import PCA\nfrom sklearn.manifold import TSNE",
   "metadata": {
    "_uuid": "27ec46110042fc28da900b1b344ae4e0692d5dc2",
    "execution": {
     "iopub.status.busy": "2023-03-28T08:13:01.743574Z",
     "iopub.execute_input": "2023-03-28T08:13:01.743994Z",
     "iopub.status.idle": "2023-03-28T08:13:02.566400Z",
     "shell.execute_reply.started": "2023-03-28T08:13:01.743887Z",
     "shell.execute_reply": "2023-03-28T08:13:02.564890Z"
    },
    "trusted": true
   },
   "execution_count": 36,
   "outputs": []
  },
  {
   "cell_type": "markdown",
   "source": "Our goal in this section is to plot our 300 dimensions vectors into 2 dimensional graphs, and see if we can spot interesting patterns.<br>\nFor that we are going to use t-SNE implementation from scikit-learn.\n\nTo make the visualizations more relevant, we will look at the relationships between a query word (in <font color='red'>**red**</font>), its most similar words in the model (in <font color=\"blue\">**blue**</font>), and other words from the vocabulary (in <font color='green'>**green**</font>).",
   "metadata": {
    "_uuid": "22693eaa25253b38cee3c5cd5db6b6fdddb575a4"
   }
  },
  {
   "cell_type": "code",
   "source": "def tsnescatterplot(model, word, list_names):\n    \"\"\" Plot in seaborn the results from the t-SNE dimensionality reduction algorithm of the vectors of a query word,\n    its list of most similar words, and a list of words.\n    \"\"\"\n    arrays = np.empty((0, 300), dtype='f')\n    word_labels = [word]\n    color_list  = ['red']\n\n    # adds the vector of the query word\n    arrays = np.append(arrays, model.wv.__getitem__([word]), axis=0)\n    \n    # gets list of most similar words\n    close_words = model.wv.most_similar([word])\n    \n    # adds the vector for each of the closest words to the array\n    for wrd_score in close_words:\n        wrd_vector = model.wv.__getitem__([wrd_score[0]])\n        word_labels.append(wrd_score[0])\n        color_list.append('blue')\n        arrays = np.append(arrays, wrd_vector, axis=0)\n    \n    # adds the vector for each of the words from list_names to the array\n    for wrd in list_names:\n        wrd_vector = model.wv.__getitem__([wrd])\n        word_labels.append(wrd)\n        color_list.append('green')\n        arrays = np.append(arrays, wrd_vector, axis=0)\n        \n    # Reduces the dimensionality from 300 to 50 dimensions with PCA\n    reduc = PCA(n_components=50).fit_transform(arrays)\n    \n    # Finds t-SNE coordinates for 2 dimensions\n    np.set_printoptions(suppress=True)\n    \n    Y = TSNE(n_components=2, random_state=0, perplexity=15).fit_transform(reduc)\n    \n    # Sets everything up to plot\n    df = pd.DataFrame({'x': [x for x in Y[:, 0]],\n                       'y': [y for y in Y[:, 1]],\n                       'words': word_labels,\n                       'color': color_list})\n    \n    fig, _ = plt.subplots()\n    fig.set_size_inches(9, 9)\n    \n    # Basic plot\n    p1 = sns.regplot(data=df,\n                     x=\"x\",\n                     y=\"y\",\n                     fit_reg=False,\n                     marker=\"o\",\n                     scatter_kws={'s': 40,\n                                  'facecolors': df['color']\n                                 }\n                    )\n    \n    # Adds annotations one by one with a loop\n    for line in range(0, df.shape[0]):\n         p1.text(df[\"x\"][line],\n                 df['y'][line],\n                 '  ' + df[\"words\"][line].title(),\n                 horizontalalignment='left',\n                 verticalalignment='bottom', size='medium',\n                 color=df['color'][line],\n                 weight='normal'\n                ).set_size(15)\n\n    \n    plt.xlim(Y[:, 0].min()-50, Y[:, 0].max()+50)\n    plt.ylim(Y[:, 1].min()-50, Y[:, 1].max()+50)\n            \n    plt.title('t-SNE visualization for {}'.format(word.title()))\n    ",
   "metadata": {
    "_uuid": "489a7d160dcd92da0ce42a3b5b461368c9ffe5f1",
    "execution": {
     "iopub.status.busy": "2023-03-28T08:13:05.127101Z",
     "iopub.execute_input": "2023-03-28T08:13:05.127522Z",
     "iopub.status.idle": "2023-03-28T08:13:05.147412Z",
     "shell.execute_reply.started": "2023-03-28T08:13:05.127456Z",
     "shell.execute_reply": "2023-03-28T08:13:05.146024Z"
    },
    "trusted": true
   },
   "execution_count": 37,
   "outputs": []
  },
  {
   "cell_type": "markdown",
   "source": "Code inspired by: [[2]](#References:)\n\n## 10 Most similar words vs. 8 Random words:\nLet's compare where the vector representation of Homer, his 10 most similar words from the model, as well as 8 random ones, lies in a 2D graph:",
   "metadata": {
    "_uuid": "3943c170a5f5f09974d90c89bdb9ec761e63a416"
   }
  },
  {
   "cell_type": "code",
   "source": "tsnescatterplot(w2v_model, 'homer', ['dog', 'bird', 'ah', 'maude', 'bob', 'mel', 'apu', 'duff'])",
   "metadata": {
    "_uuid": "18d788b2a92f94771a5f9485a885d44dfba62a94",
    "execution": {
     "iopub.status.busy": "2023-03-28T08:13:10.545590Z",
     "iopub.execute_input": "2023-03-28T08:13:10.545963Z",
     "iopub.status.idle": "2023-03-28T08:13:11.472867Z",
     "shell.execute_reply.started": "2023-03-28T08:13:10.545894Z",
     "shell.execute_reply": "2023-03-28T08:13:11.471598Z"
    },
    "trusted": true
   },
   "execution_count": 38,
   "outputs": [
    {
     "name": "stderr",
     "text": "/opt/conda/lib/python3.6/site-packages/gensim/matutils.py:737: FutureWarning: Conversion of the second argument of issubdtype from `int` to `np.signedinteger` is deprecated. In future, it will be treated as `np.int64 == np.dtype(int).type`.\n  if np.issubdtype(vec.dtype, np.int):\n",
     "output_type": "stream"
    },
    {
     "output_type": "display_data",
     "data": {
      "text/plain": "<Figure size 648x648 with 1 Axes>",
      "image/png": "[encoded data removed]"
     },
     "metadata": {}
    }
   ]
  },
  {
   "cell_type": "markdown",
   "source": "Interestingly, the 10 most similar words to Homer ends up around him, so does Apu and (sideshow) Bob, two recurrent characters.\n\n## 10 Most similar words vs. 10 Most dissimilar\n\nThis time, let's compare where the vector representation of Maggie and her 10 most similar words from the model lies compare to the vector representation of the 10 most dissimilar words to Maggie:",
   "metadata": {
    "_uuid": "c73fc2faaf0baecc84f02a97b50cb9ccefa48686"
   }
  },
  {
   "cell_type": "code",
   "source": "tsnescatterplot(w2v_model, 'maggie', [i[0] for i in w2v_model.wv.most_similar(negative=[\"maggie\"])])",
   "metadata": {
    "_uuid": "10c77b072f7c281f2be919341be116565c20d8a8",
    "execution": {
     "iopub.status.busy": "2023-03-28T08:13:14.998837Z",
     "iopub.execute_input": "2023-03-28T08:13:14.999247Z",
     "iopub.status.idle": "2023-03-28T08:13:15.669465Z",
     "shell.execute_reply.started": "2023-03-28T08:13:14.999179Z",
     "shell.execute_reply": "2023-03-28T08:13:15.668306Z"
    },
    "trusted": true
   },
   "execution_count": 39,
   "outputs": [
    {
     "output_type": "display_data",
     "data": {
      "text/plain": "<Figure size 648x648 with 1 Axes>",
      "image/png": "[encoded data removed]"
     },
     "metadata": {}
    }
   ]
  },
  {
   "cell_type": "markdown",
   "source": "Neat! Maggie and her most similar words form a distinctive cluster from the most dissimilar words, it is a really encouraging plot!\n\n## 10 Most similar words vs. 11th to 20th Most similar words:\n\nFinally, we are going to plot the most similar words to Mr. Burns ranked 1st to 10th versus the ones ranked 11th to 20th:\n\n(PS: Mr. Burns became mr_burn after the preprocessing)",
   "metadata": {
    "_uuid": "87315bfbaceb3733bd7af035db6c59cfc4b1ba7f"
   }
  },
  {
   "cell_type": "code",
   "source": "tsnescatterplot(w2v_model, \"mr_burn\", [t[0] for t in w2v_model.wv.most_similar(positive=[\"mr_burn\"], topn=20)][10:])",
   "metadata": {
    "_uuid": "e6f0bc598922f4f2cd17d2511560242a3c35fdd9",
    "execution": {
     "iopub.status.busy": "2023-03-28T08:13:18.451947Z",
     "iopub.execute_input": "2023-03-28T08:13:18.453231Z",
     "iopub.status.idle": "2023-03-28T08:13:19.136441Z",
     "shell.execute_reply.started": "2023-03-28T08:13:18.453145Z",
     "shell.execute_reply": "2023-03-28T08:13:19.135498Z"
    },
    "trusted": true
   },
   "execution_count": 40,
   "outputs": [
    {
     "output_type": "display_data",
     "data": {
      "text/plain": "<Figure size 648x648 with 1 Axes>",
      "image/png": "[encoded data removed]"
     },
     "metadata": {}
    }
   ]
  },
  {
   "cell_type": "markdown",
   "source": "As we can see, and that is very nice, all the 20 words are forming one cluster around Mr. Burns.\n\n# Final Thoughts\n\nI hope you found this tutorial useful and had as much fun reading it as I had writing it. Please do not hesitate to leave any comments, questions or suggestions you might have. See you around!\n\nAlso, please check [Supportiv](http://www.supportiv.com) around! (Simpson-ized logo)\n\n<img src=\"https://fontmeme.com/permalink/180904/cc3d27a8aaa88189e764ee9d02331d0d.png\" alt=\"drawing\" width=\"500\"/>\n\n\n# Materials for more in depths understanding:\n* Word Embeddings introduction: https://www.analyticsvidhya.com/blog/2017/06/word-embeddings-count-word2veec/\n* Word2Vec introduction: https://skymind.ai/wiki/word2vec\n* Another Word2Vec introduction: http://mccormickml.com/2016/04/19/word2vec-tutorial-the-skip-gram-model/\n* A great Gensim implentation tutorial: http://kavita-ganesan.com/gensim-word2vec-tutorial-starter-code/#.W467ScBjM2x\n* Original articles from Mikolov et al.: https://arxiv.org/abs/1301.3781 and https://arxiv.org/abs/1310.4546\n\n\n# Acknowledgements\n\n* [Pouria Mojabi](https://www.linkedin.com/in/pouria-mojabi-1873615/), co-fouder of Supportiv Inc.\n\n# References:\n* [1]. Neural Net picture: McCormick, C. (2016, April 19). Word2Vec Tutorial - The Skip-Gram Model. Retrieved from http://www.mccormickml.com\n* [2]. Aneesha Bakharia Medium article: https://medium.com/@aneesha/using-tsne-to-plot-a-subset-of-similar-words-from-word2vec-bb8eeaea6229\n\n# End",
   "metadata": {
    "_uuid": "011aa35b717d985f1d9fb820208531222055ff7b"
   }
  }
 ]
}