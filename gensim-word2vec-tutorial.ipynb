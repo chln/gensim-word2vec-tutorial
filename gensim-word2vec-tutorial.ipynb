{
 "cells": [
  {
   "cell_type": "markdown",
   "metadata": {
    "_uuid": "84163f3ca19c0b7c9fda47121b3bc4cadfaf1fcc"
   },
   "source": [
    "# Gensim Word2Vec Tutorial"
   ]
  },
  {
   "cell_type": "markdown",
   "metadata": {
    "_uuid": "6721f3a77cbc903d996b88c42f22c3e5e920e909"
   },
   "source": [
    "\n",
    "<img src=\"https://images.freeimages.com/images/large-previews/2b9/letters-1-yes-1188348.jpg\" alt=\"drawing\" width=\"350\"/>"
   ]
  },
  {
   "cell_type": "markdown",
   "metadata": {
    "_uuid": "9e858d8c6e56ee78629e1cc21ce8fee6dc3cec0b"
   },
   "source": [
    "# Motivation\n",
    "\n",
    "As I started working at [Supportiv](http://www.supportiv.com), the support network for instant peer support, a few months ago, I began looking into Language Models and Word2Vec particularly. A python native, I naturally decided to focus on Gensim's implementation of Word2Vec, and went on to look for tutorials on the web. As all good data scientists, I directly applied and reproduced the code samples from multiple website. Confused and often disappointed by the results I got, I went deeper and deeper, from stackoverflow threads, to Gensim's Google Groups, onto the documentation of the library, to try and understand what went wrong in my approach. After weeks of hard labor, I finally managed to get decent results, but I was frustrated by these online tutorials which were, for the most part, misleading.\n",
    "\n",
    "What troubled me the most in these online tutorials was their mismanagement of the model training: the code worked, and I got results which appeared to be decent at first, but the more I looked into them, the more disturbing they were. I wasted a lot of time figuring out what was wrong.\n",
    "\n",
    "Another issue I had with these tutorials was the data preparation step: too often, the authors chose to load an existing preprocessed dataset, use a toy example or skip this part. However, I always thought that one of the most important parts of the creation of a Word2Vec model was then missing. During my experimentations, I noticed that lemmatizing the sentences or looking for phrases/bigrams in them had a big impact over the results and performance of my models. Though the influence of the preprocessing varies with each dataset and application, I thought I would include the data preparation steps in this tutorial and use the great spaCy library along with it.\n",
    "\n",
    "I am not the only one annoyed by some of these [issues](https://groups.google.com/d/msg/gensim/jom4JFt7EV8/y5fjhupbAgAJ), so I decided to write my own tutorial.\n",
    "\n",
    "I do not pledge that it is perfect, nor the best way to implement Word2Vec, simply that it is better than a good chunk of what is out there 😉"
   ]
  },
  {
   "cell_type": "markdown",
   "metadata": {
    "_uuid": "aa10f4823faa729e96f15bb865e9f20769ea7a4b"
   },
   "source": [
    "# Plan\n",
    "\n",
    "1. [Briefing about Word2Vec](#Briefing-about-Word2Vec:)\n",
    "    * [Purpose of the tutorial](#Purpose-of-the-tutorial:)\n",
    "    * [Brief explanation](#Brief-explanation:)\n",
    "\n",
    "2. [Getting Started](#Getting-Started)\n",
    "    * [Setting up the environment](#Setting-up-the-environment:)\n",
    "    * [The data](#The-data:)\n",
    "3. [Preprocessing](#Preprocessing)\n",
    "    * [Cleaning](#Cleaning)\n",
    "    * [Bigrams](#Bigrams)\n",
    "    * [Most frequent words](#Most-Frequent-Words)\n",
    "    \n",
    "4. [Training the Model](#Training-the-model)\n",
    "    * [Gensim Word2Vec Implementation](#Gensim-Word2Vec-Implementation:)\n",
    "    * [Why I seperate the training of the model in 3 steps](#Why-I-seperate-the-training-of-the-model-in-3-steps:)\n",
    "    * [Training the model](#Training-the-model)\n",
    "        * [The parameters](#The-parameters)\n",
    "        * [Building the vocabulary table](#Building-the-Vocabulary-Table)\n",
    "        * [Training of the model](#Training-of-the-model)\n",
    "        * [Saving the model](#Saving-the-model:)\n",
    "5. [Exploring the Model](#Exploring-the-model)\n",
    "    * [Most similar to](#Most-similar-to:)\n",
    "    * [Similarities](#Similarities:)\n",
    "    * [Odd-one-out](#Odd-One-Out:)\n",
    "    * [Analogy difference](#Analogy-difference:)\n",
    "    * [t-SNE visualizations](#t-SNE-visualizations:)\n",
    "        * [10 Most similar words vs. 8 Random words](#10-Most-similar-words-vs.-8-Random-words:)\n",
    "        * [10 Most similar words vs. 10 Most dissimilar](#10-Most-similar-words-vs.-10-Most-dissimilar:)\n",
    "        * [10 Most similar words vs. 11th to 20th Most similar words](#10-Most-similar-words-vs.-11th-to-20th-Most-similar-words:)\n",
    "6. [Final Thoughts](#Final-Thoughts)\n",
    "7. [Material for more in depths understanding](#Material-for-more-in-depths-understanding:)\n",
    "8. [Acknowledgements](#Acknowledgements)\n",
    "9. [References](#References:)\n",
    "10. [End](#End)"
   ]
  },
  {
   "cell_type": "markdown",
   "metadata": {
    "_uuid": "7d96105f0c90bf052b2afdb684bf31549e1e6c81"
   },
   "source": [
    "# Briefing about Word2Vec:\n",
    "\n",
    "<img src=\"http://mccormickml.com/assets/word2vec/skip_gram_net_arch.png\" alt=\"drawing\" width=\"550\"/>\n",
    "\n",
    "[[1]](#References:)\n",
    "\n",
    "\n",
    "## Purpose of the tutorial:\n",
    "As I said before, this tutorial focuses on the right use of the Word2Vec package from the Gensim libray; therefore, I am not going to explain the concepts and ideas behind Word2Vec here. I am simply going to give a very brief explanation, and provide you with links to good, in depth tutorials.\n",
    "\n",
    "## Brief explanation:\n",
    "\n",
    "Word2Vec was introduced in two [papers](#Material-for-more-in-depths-understanding:) between September and October 2013, by a team of researchers at Google. Along with the papers, the researchers published their implementation in C. The Python implementation was done soon after the 1st paper, by [Gensim](https://radimrehurek.com/gensim/index.html). \n",
    "\n",
    "The underlying assumption of Word2Vec is that two words sharing similar contexts also share a similar meaning and consequently a similar vector representation from the model. For instance: \"dog\", \"puppy\" and \"pup\" are often used in similar situations, with similar surrounding words like \"good\", \"fluffy\" or \"cute\", and according to Word2Vec they will therefore share a similar vector representation.<br>\n",
    "\n",
    "From this assumption, Word2Vec can be used to find out the relations between words in a dataset, compute the similarity between them, or use the vector representation of those words as input for other applications such as text classification or clustering.\n",
    "\n",
    "# Getting Started\n",
    "\n",
    "## Setting up the environment:\n",
    "\n",
    "`python==3.6.3`\n",
    "\n",
    "Libraries used:\n",
    " * `xlrd==1.1.0`: https://pypi.org/project/xlrd/\n",
    " * `spaCy==2.0.12`: https://spacy.io/usage/\n",
    " * `gensim==3.4.0`: https://radimrehurek.com/gensim/install.html\n",
    " * `scikit-learn==0.19.1`: http://scikit-learn.org/stable/install.html\n",
    " * `seaborn==0.8`: https://seaborn.pydata.org/installing.html"
   ]
  },
  {
   "cell_type": "code",
   "execution_count": 1,
   "metadata": {
    "_uuid": "cc7b3e6ca62670ff13626705402f626778487204",
    "execution": {
     "iopub.execute_input": "2023-03-28T08:03:09.480783Z",
     "iopub.status.busy": "2023-03-28T08:03:09.480421Z",
     "iopub.status.idle": "2023-03-28T08:03:10.035365Z",
     "shell.execute_reply": "2023-03-28T08:03:10.033905Z",
     "shell.execute_reply.started": "2023-03-28T08:03:09.480702Z"
    }
   },
   "outputs": [],
   "source": [
    "import re  # For preprocessing\n",
    "import pandas as pd  # For data handling\n",
    "from time import time  # To time our operations\n",
    "from collections import defaultdict  # For word frequency\n",
    "\n",
    "import spacy  # For preprocessing\n",
    "\n",
    "import logging  # Setting up the loggings to monitor gensim\n",
    "logging.basicConfig(format=\"%(levelname)s - %(asctime)s: %(message)s\", datefmt= '%H:%M:%S', level=logging.INFO)"
   ]
  },
  {
   "cell_type": "markdown",
   "metadata": {
    "_uuid": "8ec7ce784f6d9e7f71e2b5789b1e65ec4414628b"
   },
   "source": [
    "<img src=\"https://upload.wikimedia.org/wikipedia/commons/4/44/Logo_The_Simpsons.svg\" alt=\"drawing\" width=\"400\"/>\n",
    "\n",
    "## The data:\n",
    "I chose to play with the script from the Simpsons, both because I love the Simpsons and because with more than 150k lines of dialogues, the dataset was substantial!\n",
    "\n",
    "This dataset contains the characters, locations, episode details, and script lines for approximately 600 Simpsons episodes, dating back to 1989. It can be found here: https://www.kaggle.com/ambarish/fun-in-text-mining-with-simpsons/data (~25MB)"
   ]
  },
  {
   "cell_type": "markdown",
   "metadata": {
    "_uuid": "0c36323d9aa62f74ab348cda5ee0f571aa1d4a96"
   },
   "source": [
    "# Preprocessing\n",
    "\n",
    "We keep only two columns:\n",
    "* `raw_character_text`: the character who speaks (can be useful when monitoring the preprocessing steps)\n",
    "* `spoken_words`: the raw text from the line of dialogue\n",
    "\n",
    "We do not keep `normalized_text` because we want to do our own preprocessing.\n",
    "\n",
    "You can find the resulting file here: https://www.kaggle.com/pierremegret/dialogue-lines-of-the-simpsons"
   ]
  },
  {
   "cell_type": "code",
   "execution_count": 2,
   "metadata": {
    "_uuid": "6453b9c3f797e51923e030090ead659253f4e459",
    "execution": {
     "iopub.execute_input": "2023-03-28T08:04:24.800670Z",
     "iopub.status.busy": "2023-03-28T08:04:24.800059Z",
     "iopub.status.idle": "2023-03-28T08:04:25.319899Z",
     "shell.execute_reply": "2023-03-28T08:04:25.319048Z",
     "shell.execute_reply.started": "2023-03-28T08:04:24.800618Z"
    }
   },
   "outputs": [
    {
     "data": {
      "text/plain": [
       "(158314, 2)"
      ]
     },
     "execution_count": 2,
     "metadata": {},
     "output_type": "execute_result"
    }
   ],
   "source": [
    "df = pd.read_csv('./input/simpsons_dataset.csv')\n",
    "df.shape"
   ]
  },
  {
   "cell_type": "code",
   "execution_count": 3,
   "metadata": {
    "_uuid": "c6c6bf4462fb4bc00c2abdbf65eced888219f364",
    "execution": {
     "iopub.execute_input": "2023-03-28T08:04:30.135327Z",
     "iopub.status.busy": "2023-03-28T08:04:30.134684Z",
     "iopub.status.idle": "2023-03-28T08:04:30.163236Z",
     "shell.execute_reply": "2023-03-28T08:04:30.161917Z",
     "shell.execute_reply.started": "2023-03-28T08:04:30.135252Z"
    }
   },
   "outputs": [
    {
     "data": {
      "text/html": [
       "<div>\n",
       "<style scoped>\n",
       "    .dataframe tbody tr th:only-of-type {\n",
       "        vertical-align: middle;\n",
       "    }\n",
       "\n",
       "    .dataframe tbody tr th {\n",
       "        vertical-align: top;\n",
       "    }\n",
       "\n",
       "    .dataframe thead th {\n",
       "        text-align: right;\n",
       "    }\n",
       "</style>\n",
       "<table border=\"1\" class=\"dataframe\">\n",
       "  <thead>\n",
       "    <tr style=\"text-align: right;\">\n",
       "      <th></th>\n",
       "      <th>raw_character_text</th>\n",
       "      <th>spoken_words</th>\n",
       "    </tr>\n",
       "  </thead>\n",
       "  <tbody>\n",
       "    <tr>\n",
       "      <th>0</th>\n",
       "      <td>Miss Hoover</td>\n",
       "      <td>No, actually, it was a little of both. Sometim...</td>\n",
       "    </tr>\n",
       "    <tr>\n",
       "      <th>1</th>\n",
       "      <td>Lisa Simpson</td>\n",
       "      <td>Where's Mr. Bergstrom?</td>\n",
       "    </tr>\n",
       "    <tr>\n",
       "      <th>2</th>\n",
       "      <td>Miss Hoover</td>\n",
       "      <td>I don't know. Although I'd sure like to talk t...</td>\n",
       "    </tr>\n",
       "    <tr>\n",
       "      <th>3</th>\n",
       "      <td>Lisa Simpson</td>\n",
       "      <td>That life is worth living.</td>\n",
       "    </tr>\n",
       "    <tr>\n",
       "      <th>4</th>\n",
       "      <td>Edna Krabappel-Flanders</td>\n",
       "      <td>The polls will be open from now until the end ...</td>\n",
       "    </tr>\n",
       "  </tbody>\n",
       "</table>\n",
       "</div>"
      ],
      "text/plain": [
       "        raw_character_text                                       spoken_words\n",
       "0              Miss Hoover  No, actually, it was a little of both. Sometim...\n",
       "1             Lisa Simpson                             Where's Mr. Bergstrom?\n",
       "2              Miss Hoover  I don't know. Although I'd sure like to talk t...\n",
       "3             Lisa Simpson                         That life is worth living.\n",
       "4  Edna Krabappel-Flanders  The polls will be open from now until the end ..."
      ]
     },
     "execution_count": 3,
     "metadata": {},
     "output_type": "execute_result"
    }
   ],
   "source": [
    "df.head()"
   ]
  },
  {
   "cell_type": "markdown",
   "metadata": {
    "_uuid": "caf6838463d56f79e92d87d5a3827fcd5f04fc54"
   },
   "source": [
    "The missing values comes from the part of the script where something happens, but with no dialogue. For instance \"(Springfield Elementary School: EXT. ELEMENTARY - SCHOOL PLAYGROUND - AFTERNOON)\""
   ]
  },
  {
   "cell_type": "code",
   "execution_count": 4,
   "metadata": {
    "_uuid": "3a15727caeba1c8d10573456640d0b8b9f2f2e2d",
    "execution": {
     "iopub.execute_input": "2023-03-28T08:04:34.366409Z",
     "iopub.status.busy": "2023-03-28T08:04:34.365997Z",
     "iopub.status.idle": "2023-03-28T08:04:34.403410Z",
     "shell.execute_reply": "2023-03-28T08:04:34.401663Z",
     "shell.execute_reply.started": "2023-03-28T08:04:34.366333Z"
    }
   },
   "outputs": [
    {
     "data": {
      "text/plain": [
       "raw_character_text    17814\n",
       "spoken_words          26459\n",
       "dtype: int64"
      ]
     },
     "execution_count": 4,
     "metadata": {},
     "output_type": "execute_result"
    }
   ],
   "source": [
    "df.isnull().sum()"
   ]
  },
  {
   "cell_type": "markdown",
   "metadata": {
    "_uuid": "885a555596d7484841ea54c94405d03d90572396"
   },
   "source": [
    "Removing the missing values:"
   ]
  },
  {
   "cell_type": "code",
   "execution_count": 5,
   "metadata": {
    "_uuid": "82cb38f176526679f66ee31e11cfe4f5eebdab51",
    "execution": {
     "iopub.execute_input": "2023-03-28T08:04:38.937866Z",
     "iopub.status.busy": "2023-03-28T08:04:38.937312Z",
     "iopub.status.idle": "2023-03-28T08:04:39.012095Z",
     "shell.execute_reply": "2023-03-28T08:04:39.010955Z",
     "shell.execute_reply.started": "2023-03-28T08:04:38.937606Z"
    }
   },
   "outputs": [
    {
     "data": {
      "text/plain": [
       "raw_character_text    0\n",
       "spoken_words          0\n",
       "dtype: int64"
      ]
     },
     "execution_count": 5,
     "metadata": {},
     "output_type": "execute_result"
    }
   ],
   "source": [
    "df = df.dropna().reset_index(drop=True)\n",
    "df.isnull().sum()"
   ]
  },
  {
   "cell_type": "markdown",
   "metadata": {
    "_uuid": "7f07dca2a2656dcd9e0c315afa36af32a992eef7"
   },
   "source": [
    "## Cleaning:\n",
    "We are lemmatizing and removing the stopwords and non-alphabetic characters for each line of dialogue."
   ]
  },
  {
   "cell_type": "code",
   "execution_count": 6,
   "metadata": {
    "_uuid": "b26a0c01c5701630d3951cfc808a9d944eea6371",
    "execution": {
     "iopub.execute_input": "2023-03-28T08:04:53.394059Z",
     "iopub.status.busy": "2023-03-28T08:04:53.393663Z",
     "iopub.status.idle": "2023-03-28T08:04:53.906625Z",
     "shell.execute_reply": "2023-03-28T08:04:53.905345Z",
     "shell.execute_reply.started": "2023-03-28T08:04:53.394004Z"
    }
   },
   "outputs": [],
   "source": [
    "nlp = spacy.load('en', disable=['ner', 'parser']) # disabling Named Entity Recognition for speed\n",
    "\n",
    "def cleaning(doc):\n",
    "    # Lemmatizes and removes stopwords\n",
    "    # doc needs to be a spacy Doc object\n",
    "    txt = [token.lemma_ for token in doc if not token.is_stop]\n",
    "    # Word2Vec uses context words to learn the vector representation of a target word,\n",
    "    # if a sentence is only one or two words long,\n",
    "    # the benefit for the training is very small\n",
    "    if len(txt) > 2:\n",
    "        return ' '.join(txt)"
   ]
  },
  {
   "cell_type": "markdown",
   "metadata": {
    "_uuid": "f686964722eede40e5961cd232aee7b6dd587bd1"
   },
   "source": [
    "Removes non-alphabetic characters:"
   ]
  },
  {
   "cell_type": "code",
   "execution_count": 7,
   "metadata": {
    "_uuid": "b45598934171607242ca7d50f8c5f7c91411aace",
    "execution": {
     "iopub.execute_input": "2023-03-28T08:05:16.780904Z",
     "iopub.status.busy": "2023-03-28T08:05:16.780314Z",
     "iopub.status.idle": "2023-03-28T08:05:16.790800Z",
     "shell.execute_reply": "2023-03-28T08:05:16.789527Z",
     "shell.execute_reply.started": "2023-03-28T08:05:16.780829Z"
    }
   },
   "outputs": [],
   "source": [
    "brief_cleaning = (re.sub(\"[^A-Za-z']+\", ' ', str(row)).lower() for row in df['spoken_words'])"
   ]
  },
  {
   "cell_type": "markdown",
   "metadata": {
    "_uuid": "2360160a7f326a32d56f2f18782d7ce2f4ac1def"
   },
   "source": [
    "Taking advantage of spaCy .pipe() attribute to speed-up the cleaning process:"
   ]
  },
  {
   "cell_type": "code",
   "execution_count": 8,
   "metadata": {
    "_uuid": "fa44ca458c970ca229426779e6ffcd46c2de313c",
    "execution": {
     "iopub.execute_input": "2023-03-28T08:05:21.119181Z",
     "iopub.status.busy": "2023-03-28T08:05:21.118762Z",
     "iopub.status.idle": "2023-03-28T08:07:32.348640Z",
     "shell.execute_reply": "2023-03-28T08:07:32.347657Z",
     "shell.execute_reply.started": "2023-03-28T08:05:21.119110Z"
    }
   },
   "outputs": [
    {
     "name": "stdout",
     "output_type": "stream",
     "text": [
      "Time to clean up everything: 1.5 mins\n"
     ]
    }
   ],
   "source": [
    "t = time()\n",
    "\n",
    "txt = [cleaning(doc) for doc in nlp.pipe(brief_cleaning, batch_size=5000, n_threads=-1)]\n",
    "\n",
    "print('Time to clean up everything: {} mins'.format(round((time() - t) / 60, 2)))"
   ]
  },
  {
   "cell_type": "markdown",
   "metadata": {
    "_uuid": "65ec76c60f9fe93bba6909f4e696f90e3e54710b"
   },
   "source": [
    "Put the results in a DataFrame to remove missing values and duplicates:"
   ]
  },
  {
   "cell_type": "code",
   "execution_count": 9,
   "metadata": {
    "_uuid": "57f1eb8382554bc592d48915a903230b5b6d6cf7",
    "execution": {
     "iopub.execute_input": "2023-03-28T08:07:56.768469Z",
     "iopub.status.busy": "2023-03-28T08:07:56.768119Z",
     "iopub.status.idle": "2023-03-28T08:07:56.847328Z",
     "shell.execute_reply": "2023-03-28T08:07:56.846368Z",
     "shell.execute_reply.started": "2023-03-28T08:07:56.768419Z"
    }
   },
   "outputs": [
    {
     "data": {
      "text/plain": [
       "(92412, 1)"
      ]
     },
     "execution_count": 9,
     "metadata": {},
     "output_type": "execute_result"
    }
   ],
   "source": [
    "df_clean = pd.DataFrame({'clean': txt})\n",
    "df_clean = df_clean.dropna().drop_duplicates()\n",
    "df_clean.shape"
   ]
  },
  {
   "cell_type": "markdown",
   "metadata": {
    "_uuid": "31b4a744059df490ddb47ab6cdec008dc929ede3"
   },
   "source": [
    "## Bigrams:\n",
    "We are using Gensim Phrases package to automatically detect common phrases (bigrams) from a list of sentences.\n",
    "https://radimrehurek.com/gensim/models/phrases.html\n",
    "\n",
    "The main reason we do this is to catch words like \"mr_burns\" or \"bart_simpson\" !"
   ]
  },
  {
   "cell_type": "code",
   "execution_count": 10,
   "metadata": {
    "_uuid": "af6d420284a0ff7a7407d4c526754ffe850d6170",
    "execution": {
     "iopub.execute_input": "2023-03-28T08:08:00.454615Z",
     "iopub.status.busy": "2023-03-28T08:08:00.453961Z",
     "iopub.status.idle": "2023-03-28T08:08:01.427530Z",
     "shell.execute_reply": "2023-03-28T08:08:01.426429Z",
     "shell.execute_reply.started": "2023-03-28T08:08:00.454548Z"
    }
   },
   "outputs": [
    {
     "name": "stderr",
     "output_type": "stream",
     "text": [
      "INFO - 11:54:16: 'pattern' package not found; tag filters are not available for English\n"
     ]
    }
   ],
   "source": [
    "from gensim.models.phrases import Phrases, Phraser"
   ]
  },
  {
   "cell_type": "markdown",
   "metadata": {
    "_uuid": "788aec3c82788101db25d4ca6105ee133fecae7c"
   },
   "source": [
    "As `Phrases()` takes a list of list of words as input:"
   ]
  },
  {
   "cell_type": "code",
   "execution_count": 11,
   "metadata": {
    "_uuid": "f58487ff08d8812622fd7aef36139f1c850add18",
    "execution": {
     "iopub.execute_input": "2023-03-28T08:08:05.005300Z",
     "iopub.status.busy": "2023-03-28T08:08:05.004969Z",
     "iopub.status.idle": "2023-03-28T08:08:05.238054Z",
     "shell.execute_reply": "2023-03-28T08:08:05.236884Z",
     "shell.execute_reply.started": "2023-03-28T08:08:05.005249Z"
    }
   },
   "outputs": [],
   "source": [
    "sent = [row.split() for row in df_clean['clean']]"
   ]
  },
  {
   "cell_type": "markdown",
   "metadata": {
    "_uuid": "bb7766b322cbc1d3381912b890585eb249ac5304"
   },
   "source": [
    "Creates the relevant phrases from the list of sentences:"
   ]
  },
  {
   "cell_type": "code",
   "execution_count": 12,
   "metadata": {
    "_uuid": "8befad8c76c54bd2b831b0942a2f626f7d8a6dac",
    "execution": {
     "iopub.execute_input": "2023-03-28T08:08:08.094053Z",
     "iopub.status.busy": "2023-03-28T08:08:08.093697Z",
     "iopub.status.idle": "2023-03-28T08:08:09.693136Z",
     "shell.execute_reply": "2023-03-28T08:08:09.691948Z",
     "shell.execute_reply.started": "2023-03-28T08:08:08.093999Z"
    }
   },
   "outputs": [
    {
     "name": "stderr",
     "output_type": "stream",
     "text": [
      "INFO - 11:54:17: collecting all words and their counts\n",
      "INFO - 11:54:17: PROGRESS: at sentence #0, processed 0 words and 0 word types\n",
      "INFO - 11:54:17: PROGRESS: at sentence #10000, processed 67396 words and 50551 word types\n",
      "INFO - 11:54:17: PROGRESS: at sentence #20000, processed 140465 words and 95808 word types\n",
      "INFO - 11:54:17: PROGRESS: at sentence #30000, processed 207950 words and 132011 word types\n",
      "INFO - 11:54:17: PROGRESS: at sentence #40000, processed 270207 words and 164407 word types\n",
      "INFO - 11:54:17: PROGRESS: at sentence #50000, processed 334085 words and 196195 word types\n",
      "INFO - 11:54:17: PROGRESS: at sentence #60000, processed 400877 words and 228659 word types\n",
      "INFO - 11:54:17: PROGRESS: at sentence #70000, processed 467802 words and 260712 word types\n",
      "INFO - 11:54:17: PROGRESS: at sentence #80000, processed 534361 words and 292095 word types\n",
      "INFO - 11:54:17: PROGRESS: at sentence #90000, processed 602037 words and 321944 word types\n",
      "INFO - 11:54:17: collected 328658 word types from a corpus of 618920 words (unigram + bigrams) and 92412 sentences\n",
      "INFO - 11:54:17: using 328658 counts as vocab in Phrases<0 vocab, min_count=30, threshold=10.0, max_vocab_size=40000000>\n"
     ]
    }
   ],
   "source": [
    "phrases = Phrases(sent, min_count=30, progress_per=10000)"
   ]
  },
  {
   "cell_type": "markdown",
   "metadata": {
    "_uuid": "45bae4a953f2ad8951e4efb234e1e357857a33b3"
   },
   "source": [
    "The goal of Phraser() is to cut down memory consumption of Phrases(), by discarding model state not strictly needed for the bigram detection task:"
   ]
  },
  {
   "cell_type": "code",
   "execution_count": 13,
   "metadata": {
    "_kg_hide-input": true,
    "_uuid": "b8ae81ba230013aefe7c584338de7376fedf6294",
    "execution": {
     "iopub.execute_input": "2023-03-28T08:08:14.519521Z",
     "iopub.status.busy": "2023-03-28T08:08:14.519109Z",
     "iopub.status.idle": "2023-03-28T08:08:18.866392Z",
     "shell.execute_reply": "2023-03-28T08:08:18.865267Z",
     "shell.execute_reply.started": "2023-03-28T08:08:14.519452Z"
    }
   },
   "outputs": [
    {
     "name": "stderr",
     "output_type": "stream",
     "text": [
      "INFO - 11:54:18: source_vocab length 328658\n",
      "INFO - 11:54:21: Phraser built with 127 127 phrasegrams\n"
     ]
    }
   ],
   "source": [
    "bigram = Phraser(phrases)"
   ]
  },
  {
   "cell_type": "markdown",
   "metadata": {
    "_uuid": "4a58380f19d159688aeee665d1afb96289fdd4b8"
   },
   "source": [
    "Transform the corpus based on the bigrams detected:"
   ]
  },
  {
   "cell_type": "code",
   "execution_count": 14,
   "metadata": {
    "_uuid": "8051b56890c147119db3df529d3cfd3cf675fdca",
    "execution": {
     "iopub.execute_input": "2023-03-28T08:08:24.198326Z",
     "iopub.status.busy": "2023-03-28T08:08:24.197956Z",
     "iopub.status.idle": "2023-03-28T08:08:24.203763Z",
     "shell.execute_reply": "2023-03-28T08:08:24.202063Z",
     "shell.execute_reply.started": "2023-03-28T08:08:24.198260Z"
    }
   },
   "outputs": [],
   "source": [
    "sentences = bigram[sent]"
   ]
  },
  {
   "cell_type": "markdown",
   "metadata": {
    "_uuid": "a4f81e8bb2c09a67b00cd24db28353eca8ae188c"
   },
   "source": [
    "## Most Frequent Words:\n",
    "Mainly a sanity check of the effectiveness of the lemmatization, removal of stopwords, and addition of bigrams."
   ]
  },
  {
   "cell_type": "code",
   "execution_count": 15,
   "metadata": {
    "_uuid": "eeb8afe1cfcb7ba65bd14d657455600acacf39ba",
    "execution": {
     "iopub.execute_input": "2023-03-28T08:08:28.357908Z",
     "iopub.status.busy": "2023-03-28T08:08:28.357349Z",
     "iopub.status.idle": "2023-03-28T08:08:31.219229Z",
     "shell.execute_reply": "2023-03-28T08:08:31.218025Z",
     "shell.execute_reply.started": "2023-03-28T08:08:28.357751Z"
    }
   },
   "outputs": [
    {
     "data": {
      "text/plain": [
       "29673"
      ]
     },
     "execution_count": 15,
     "metadata": {},
     "output_type": "execute_result"
    }
   ],
   "source": [
    "word_freq = defaultdict(int)\n",
    "for sent in sentences:\n",
    "    for i in sent:\n",
    "        word_freq[i] += 1\n",
    "len(word_freq)"
   ]
  },
  {
   "cell_type": "code",
   "execution_count": 16,
   "metadata": {
    "_uuid": "5b010149150b2b2eaf332d79bcde0649b8a3c2b5",
    "execution": {
     "iopub.execute_input": "2023-03-28T08:08:34.377671Z",
     "iopub.status.busy": "2023-03-28T08:08:34.377278Z",
     "iopub.status.idle": "2023-03-28T08:08:34.407369Z",
     "shell.execute_reply": "2023-03-28T08:08:34.405228Z",
     "shell.execute_reply.started": "2023-03-28T08:08:34.377604Z"
    }
   },
   "outputs": [
    {
     "data": {
      "text/plain": [
       "['be', 'not', 'oh', 'will', 'like', \"'s\", 'know', 'think', 'hey', 'good']"
      ]
     },
     "execution_count": 16,
     "metadata": {},
     "output_type": "execute_result"
    }
   ],
   "source": [
    "sorted(word_freq, key=word_freq.get, reverse=True)[:10]"
   ]
  },
  {
   "cell_type": "markdown",
   "metadata": {
    "_uuid": "500ab7b5c84dc006d7945f339c40725a82856fdf"
   },
   "source": [
    "# Training the model\n",
    "## Gensim Word2Vec Implementation:\n",
    "We use Gensim implementation of word2vec: https://radimrehurek.com/gensim/models/word2vec.html"
   ]
  },
  {
   "cell_type": "code",
   "execution_count": 17,
   "metadata": {
    "_uuid": "3269be205cadbad499aa87890893d92da6adc796",
    "execution": {
     "iopub.execute_input": "2023-03-28T08:08:37.679368Z",
     "iopub.status.busy": "2023-03-28T08:08:37.679036Z",
     "iopub.status.idle": "2023-03-28T08:08:37.684132Z",
     "shell.execute_reply": "2023-03-28T08:08:37.682984Z",
     "shell.execute_reply.started": "2023-03-28T08:08:37.679315Z"
    }
   },
   "outputs": [],
   "source": [
    "import multiprocessing\n",
    "\n",
    "from gensim.models import Word2Vec"
   ]
  },
  {
   "cell_type": "markdown",
   "metadata": {
    "_uuid": "7c524bc49c41a6c37f9e754a38797c9501202090"
   },
   "source": [
    "## Why I seperate the training of the model in 3 steps:\n",
    "I prefer to separate the training in 3 distinctive steps for clarity and monitoring.\n",
    "1. `Word2Vec()`: \n",
    ">In this first step, I set up the parameters of the model one-by-one. <br>I do not supply the parameter `sentences`, and therefore leave the model uninitialized, purposefully.\n",
    "2. `.build_vocab()`: \n",
    ">Here it builds the vocabulary from a sequence of sentences and thus initialized the model. <br>With the loggings, I can follow the progress and even more important, the effect of `min_count` and `sample` on the word corpus. I noticed that these two parameters, and in particular `sample`, have a great influence over the performance of a model. Displaying both allows for a more accurate and an easier management of their influence.\n",
    "3. `.train()`:\n",
    ">Finally, trains the model.<br>\n",
    "The loggings here are mainly useful for monitoring, making sure that no threads are executed instantaneously."
   ]
  },
  {
   "cell_type": "code",
   "execution_count": 18,
   "metadata": {
    "_uuid": "03488d9b68963579c96094aca88a302c9f2753a7",
    "execution": {
     "iopub.execute_input": "2023-03-28T08:08:45.344823Z",
     "iopub.status.busy": "2023-03-28T08:08:45.344486Z",
     "iopub.status.idle": "2023-03-28T08:08:45.349576Z",
     "shell.execute_reply": "2023-03-28T08:08:45.348297Z",
     "shell.execute_reply.started": "2023-03-28T08:08:45.344771Z"
    }
   },
   "outputs": [],
   "source": [
    "cores = multiprocessing.cpu_count() # Count the number of cores in a computer"
   ]
  },
  {
   "cell_type": "markdown",
   "metadata": {
    "_uuid": "89c305fcd163488441ac2ac6133678bd973b4419"
   },
   "source": [
    "## The parameters:\n",
    "\n",
    "* `min_count` <font color='purple'>=</font> <font color='green'>int</font> - Ignores all words with total absolute frequency lower than this - (2, 100)\n",
    "\n",
    "\n",
    "* `window` <font color='purple'>=</font> <font color='green'>int</font> - The maximum distance between the current and predicted word within a sentence. E.g. `window` words on the left and `window` words on the left of our target - (2, 10)\n",
    "\n",
    "\n",
    "* `size` <font color='purple'>=</font> <font color='green'>int</font> - Dimensionality of the feature vectors. - (50, 300)\n",
    "\n",
    "\n",
    "* `sample` <font color='purple'>=</font> <font color='green'>float</font> - The threshold for configuring which higher-frequency words are randomly downsampled. Highly influencial.  - (0, 1e-5)\n",
    "\n",
    "\n",
    "* `alpha` <font color='purple'>=</font> <font color='green'>float</font> - The initial learning rate - (0.01, 0.05)\n",
    "\n",
    "\n",
    "* `min_alpha` <font color='purple'>=</font> <font color='green'>float</font> - Learning rate will linearly drop to `min_alpha` as training progresses. To set it: alpha - (min_alpha * epochs) ~ 0.00\n",
    "\n",
    "\n",
    "* `negative` <font color='purple'>=</font> <font color='green'>int</font> - If > 0, negative sampling will be used, the int for negative specifies how many \"noise words\" should be drown. If set to 0, no negative sampling is used. - (5, 20)\n",
    "\n",
    "\n",
    "* `workers` <font color='purple'>=</font> <font color='green'>int</font> - Use these many worker threads to train the model (=faster training with multicore machines)"
   ]
  },
  {
   "cell_type": "code",
   "execution_count": 19,
   "metadata": {
    "_uuid": "ad619db82c219d6cb81fad516563feb0c4d474cd",
    "execution": {
     "iopub.execute_input": "2023-03-28T08:08:51.606332Z",
     "iopub.status.busy": "2023-03-28T08:08:51.606011Z",
     "iopub.status.idle": "2023-03-28T08:08:51.611598Z",
     "shell.execute_reply": "2023-03-28T08:08:51.610680Z",
     "shell.execute_reply.started": "2023-03-28T08:08:51.606284Z"
    }
   },
   "outputs": [],
   "source": [
    "w2v_model = Word2Vec(min_count=20,\n",
    "                     window=2,\n",
    "                     size=300,\n",
    "                     sample=6e-5, \n",
    "                     alpha=0.03, \n",
    "                     min_alpha=0.0007, \n",
    "                     negative=20,\n",
    "                     workers=cores-1)"
   ]
  },
  {
   "cell_type": "markdown",
   "metadata": {
    "_uuid": "d7e9f1bd338f9e15647b5209ffd8fbb131cd7ee5"
   },
   "source": [
    "## Building the Vocabulary Table:\n",
    "Word2Vec requires us to build the vocabulary table (simply digesting all the words and filtering out the unique words, and doing some basic counts on them):"
   ]
  },
  {
   "cell_type": "code",
   "execution_count": 20,
   "metadata": {
    "_uuid": "66358ad743e05e17dfbed3899af9c41056143daa",
    "execution": {
     "iopub.execute_input": "2023-03-28T08:08:54.872935Z",
     "iopub.status.busy": "2023-03-28T08:08:54.872605Z",
     "iopub.status.idle": "2023-03-28T08:08:57.910943Z",
     "shell.execute_reply": "2023-03-28T08:08:57.909938Z",
     "shell.execute_reply.started": "2023-03-28T08:08:54.872890Z"
    }
   },
   "outputs": [
    {
     "name": "stderr",
     "output_type": "stream",
     "text": [
      "INFO - 11:54:24: collecting all words and their counts\n",
      "INFO - 11:54:24: PROGRESS: at sentence #0, processed 0 words, keeping 0 word types\n",
      "INFO - 11:54:24: PROGRESS: at sentence #10000, processed 65193 words, keeping 9096 word types\n",
      "INFO - 11:54:24: PROGRESS: at sentence #20000, processed 136024 words, keeping 13916 word types\n",
      "INFO - 11:54:24: PROGRESS: at sentence #30000, processed 201577 words, keeping 16865 word types\n",
      "INFO - 11:54:24: PROGRESS: at sentence #40000, processed 262082 words, keeping 19506 word types\n",
      "INFO - 11:54:25: PROGRESS: at sentence #50000, processed 324069 words, keeping 21758 word types\n",
      "INFO - 11:54:25: PROGRESS: at sentence #60000, processed 388895 words, keeping 23910 word types\n",
      "INFO - 11:54:25: PROGRESS: at sentence #70000, processed 454042 words, keeping 25876 word types\n",
      "INFO - 11:54:25: PROGRESS: at sentence #80000, processed 518929 words, keeping 27769 word types\n",
      "INFO - 11:54:25: PROGRESS: at sentence #90000, processed 584755 words, keeping 29345 word types\n",
      "INFO - 11:54:25: collected 29673 word types from a corpus of 601119 raw words and 92412 sentences\n",
      "INFO - 11:54:25: Loading a fresh vocabulary\n",
      "INFO - 11:54:25: min_count=20 retains 3375 unique words (11% of original 29673, drops 26298)\n",
      "INFO - 11:54:25: min_count=20 leaves 515089 word corpus (85% of original 601119, drops 86030)\n",
      "INFO - 11:54:25: deleting the raw counts dictionary of 29673 items\n",
      "INFO - 11:54:25: sample=6e-05 downsamples 1080 most-common words\n",
      "INFO - 11:54:25: downsampling leaves estimated 219321 word corpus (42.6% of prior 515089)\n",
      "INFO - 11:54:25: estimated required memory for 3375 words and 300 dimensions: 9787500 bytes\n",
      "INFO - 11:54:25: resetting layer weights\n"
     ]
    },
    {
     "name": "stdout",
     "output_type": "stream",
     "text": [
      "Time to build vocab: 0.04 mins\n"
     ]
    }
   ],
   "source": [
    "t = time()\n",
    "\n",
    "w2v_model.build_vocab(sentences, progress_per=10000)\n",
    "\n",
    "print('Time to build vocab: {} mins'.format(round((time() - t) / 60, 2)))"
   ]
  },
  {
   "cell_type": "markdown",
   "metadata": {
    "_uuid": "63260d82061abb47db7f2f8b23e07ec629adf5a9"
   },
   "source": [
    "## Training of the model:\n",
    "_Parameters of the training:_\n",
    "* `total_examples` <font color='purple'>=</font> <font color='green'>int</font> - Count of sentences;\n",
    "* `epochs` <font color='purple'>=</font> <font color='green'>int</font> - Number of iterations (epochs) over the corpus - [10, 20, 30]"
   ]
  },
  {
   "cell_type": "code",
   "execution_count": null,
   "metadata": {
    "_uuid": "07a2a047e701e512fd758edff186daadaeea6461",
    "execution": {
     "iopub.execute_input": "2023-03-28T08:09:06.603912Z",
     "iopub.status.busy": "2023-03-28T08:09:06.603006Z",
     "iopub.status.idle": "2023-03-28T08:10:45.446877Z",
     "shell.execute_reply": "2023-03-28T08:10:45.446015Z",
     "shell.execute_reply.started": "2023-03-28T08:09:06.603809Z"
    }
   },
   "outputs": [
    {
     "name": "stderr",
     "output_type": "stream",
     "text": [
      "INFO - 11:54:26: training model with 7 workers on 3375 vocabulary and 300 features, using sg=0 hs=0 sample=6e-05 negative=20 window=2\n",
      "INFO - 11:54:27: EPOCH 1 - PROGRESS: at 44.72% examples, 97001 words/s, in_qsize 0, out_qsize 0\n",
      "INFO - 11:54:28: EPOCH 1 - PROGRESS: at 90.09% examples, 97469 words/s, in_qsize 0, out_qsize 0\n",
      "INFO - 11:54:28: worker thread finished; awaiting finish of 6 more threads\n",
      "INFO - 11:54:28: worker thread finished; awaiting finish of 5 more threads\n",
      "INFO - 11:54:28: worker thread finished; awaiting finish of 4 more threads\n",
      "INFO - 11:54:28: worker thread finished; awaiting finish of 3 more threads\n",
      "INFO - 11:54:28: worker thread finished; awaiting finish of 2 more threads\n",
      "INFO - 11:54:28: worker thread finished; awaiting finish of 1 more threads\n",
      "INFO - 11:54:28: worker thread finished; awaiting finish of 0 more threads\n",
      "INFO - 11:54:28: EPOCH - 1 : training on 601119 raw words (219268 effective words) took 2.2s, 98940 effective words/s\n",
      "INFO - 11:54:29: EPOCH 2 - PROGRESS: at 46.58% examples, 98341 words/s, in_qsize 0, out_qsize 0\n",
      "INFO - 11:54:30: EPOCH 2 - PROGRESS: at 90.09% examples, 95623 words/s, in_qsize 0, out_qsize 0\n",
      "INFO - 11:54:31: worker thread finished; awaiting finish of 6 more threads\n",
      "INFO - 11:54:31: worker thread finished; awaiting finish of 5 more threads\n",
      "INFO - 11:54:31: worker thread finished; awaiting finish of 4 more threads\n",
      "INFO - 11:54:31: worker thread finished; awaiting finish of 3 more threads\n",
      "INFO - 11:54:31: worker thread finished; awaiting finish of 2 more threads\n",
      "INFO - 11:54:31: worker thread finished; awaiting finish of 1 more threads\n",
      "INFO - 11:54:31: worker thread finished; awaiting finish of 0 more threads\n",
      "INFO - 11:54:31: EPOCH - 2 : training on 601119 raw words (219459 effective words) took 2.3s, 97134 effective words/s\n",
      "INFO - 11:54:32: EPOCH 3 - PROGRESS: at 48.35% examples, 103513 words/s, in_qsize 0, out_qsize 0\n",
      "INFO - 11:54:33: EPOCH 3 - PROGRESS: at 96.63% examples, 103856 words/s, in_qsize 1, out_qsize 0\n",
      "INFO - 11:54:33: worker thread finished; awaiting finish of 6 more threads\n",
      "INFO - 11:54:33: worker thread finished; awaiting finish of 5 more threads\n",
      "INFO - 11:54:33: worker thread finished; awaiting finish of 4 more threads\n",
      "INFO - 11:54:33: worker thread finished; awaiting finish of 3 more threads\n",
      "INFO - 11:54:33: worker thread finished; awaiting finish of 2 more threads\n",
      "INFO - 11:54:33: worker thread finished; awaiting finish of 1 more threads\n",
      "INFO - 11:54:33: worker thread finished; awaiting finish of 0 more threads\n",
      "INFO - 11:54:33: EPOCH - 3 : training on 601119 raw words (218941 effective words) took 2.1s, 104201 effective words/s\n",
      "INFO - 11:54:34: EPOCH 4 - PROGRESS: at 40.98% examples, 90481 words/s, in_qsize 0, out_qsize 0\n",
      "INFO - 11:54:35: EPOCH 4 - PROGRESS: at 90.09% examples, 97611 words/s, in_qsize 1, out_qsize 0\n",
      "INFO - 11:54:35: worker thread finished; awaiting finish of 6 more threads\n",
      "INFO - 11:54:35: worker thread finished; awaiting finish of 5 more threads\n",
      "INFO - 11:54:35: worker thread finished; awaiting finish of 4 more threads\n",
      "INFO - 11:54:35: worker thread finished; awaiting finish of 3 more threads\n",
      "INFO - 11:54:35: worker thread finished; awaiting finish of 2 more threads\n",
      "INFO - 11:54:35: worker thread finished; awaiting finish of 1 more threads\n",
      "INFO - 11:54:35: worker thread finished; awaiting finish of 0 more threads\n",
      "INFO - 11:54:35: EPOCH - 4 : training on 601119 raw words (219933 effective words) took 2.2s, 98879 effective words/s\n",
      "INFO - 11:54:36: EPOCH 5 - PROGRESS: at 42.87% examples, 92938 words/s, in_qsize 0, out_qsize 0\n",
      "INFO - 11:54:37: EPOCH 5 - PROGRESS: at 91.80% examples, 99397 words/s, in_qsize 0, out_qsize 0\n",
      "INFO - 11:54:37: worker thread finished; awaiting finish of 6 more threads\n",
      "INFO - 11:54:37: worker thread finished; awaiting finish of 5 more threads\n",
      "INFO - 11:54:37: worker thread finished; awaiting finish of 4 more threads\n",
      "INFO - 11:54:37: worker thread finished; awaiting finish of 3 more threads\n",
      "INFO - 11:54:37: worker thread finished; awaiting finish of 2 more threads\n",
      "INFO - 11:54:37: worker thread finished; awaiting finish of 1 more threads\n",
      "INFO - 11:54:37: worker thread finished; awaiting finish of 0 more threads\n",
      "INFO - 11:54:37: EPOCH - 5 : training on 601119 raw words (219201 effective words) took 2.2s, 99813 effective words/s\n",
      "INFO - 11:54:38: EPOCH 6 - PROGRESS: at 44.72% examples, 97753 words/s, in_qsize 0, out_qsize 0\n",
      "INFO - 11:54:39: EPOCH 6 - PROGRESS: at 86.72% examples, 92145 words/s, in_qsize 0, out_qsize 0\n",
      "INFO - 11:54:39: worker thread finished; awaiting finish of 6 more threads\n",
      "INFO - 11:54:39: worker thread finished; awaiting finish of 5 more threads\n",
      "INFO - 11:54:39: worker thread finished; awaiting finish of 4 more threads\n",
      "INFO - 11:54:39: worker thread finished; awaiting finish of 3 more threads\n",
      "INFO - 11:54:39: worker thread finished; awaiting finish of 2 more threads\n",
      "INFO - 11:54:39: worker thread finished; awaiting finish of 1 more threads\n",
      "INFO - 11:54:39: worker thread finished; awaiting finish of 0 more threads\n",
      "INFO - 11:54:39: EPOCH - 6 : training on 601119 raw words (219677 effective words) took 2.3s, 93905 effective words/s\n"
     ]
    }
   ],
   "source": [
    "t = time()\n",
    "\n",
    "w2v_model.train(sentences, total_examples=w2v_model.corpus_count, epochs=30, report_delay=1)\n",
    "\n",
    "print('Time to train the model: {} mins'.format(round((time() - t) / 60, 2)))"
   ]
  },
  {
   "cell_type": "markdown",
   "metadata": {
    "_uuid": "48e12768512b82c2d5cf6a543e3a9f2515699a22"
   },
   "source": [
    "As we do not plan to train the model any further, we are calling init_sims(), which will make the model much more memory-efficient:"
   ]
  },
  {
   "cell_type": "code",
   "execution_count": null,
   "metadata": {
    "_uuid": "34dd51c7f2f39d016b982ef81e4df576f6b31bcb"
   },
   "outputs": [],
   "source": [
    "w2v_model.init_sims(replace=True)"
   ]
  },
  {
   "cell_type": "markdown",
   "metadata": {
    "_uuid": "a420d5a98eb860cff1f4bbac8cbe2054459b6200"
   },
   "source": [
    "# Exploring the model\n",
    "## Most similar to:\n",
    "\n",
    "Here, we will ask our model to find the word most similar to some of the most iconic characters of the Simpsons!"
   ]
  },
  {
   "cell_type": "markdown",
   "metadata": {
    "_uuid": "a8f3cfd8ac88978a4df31c90afa194bd6fa4f3f5"
   },
   "source": [
    "<img src=\"https://vignette.wikia.nocookie.net/simpsons/images/0/02/Homer_Simpson_2006.png/revision/latest?cb=20091207194310\" alt=\"drawing\" width=\"130\"/>\n",
    "\n",
    "Let's see what we get for the show's main character:"
   ]
  },
  {
   "cell_type": "code",
   "execution_count": null,
   "metadata": {
    "_uuid": "339207a733a1ac42fe60e32a29f9e5d5ca0a9275",
    "execution": {
     "iopub.execute_input": "2023-03-28T08:10:58.592520Z",
     "iopub.status.busy": "2023-03-28T08:10:58.592180Z",
     "iopub.status.idle": "2023-03-28T08:10:58.621112Z",
     "shell.execute_reply": "2023-03-28T08:10:58.619663Z",
     "shell.execute_reply.started": "2023-03-28T08:10:58.592473Z"
    }
   },
   "outputs": [],
   "source": [
    "w2v_model.wv.most_similar(positive=[\"homer\"])"
   ]
  },
  {
   "cell_type": "markdown",
   "metadata": {
    "_uuid": "3b6686e6fa956a98450259b063b4cf51019a6d0b"
   },
   "source": [
    "_A small precision here:_<br>\n",
    "The dataset is the Simpsons' lines of dialogue; therefore, when we look at the most similar words from \"homer\" we do **not** necessary get his family members, personality traits, or even his most quotable words. No, we get what other characters (as Homer does not often refers to himself at the 3rd person) said along with \"homer\", such as how he feels or looks (\"depressed\"), where he is (\"hammock\"), or with whom (\"marge\").\n",
    "\n",
    "Let's see what the bigram \"homer_simpson\" gives us by comparison:"
   ]
  },
  {
   "cell_type": "code",
   "execution_count": null,
   "metadata": {
    "_uuid": "23e5149b19f18f4f2f456d4c72afc5c188bcfba4",
    "execution": {
     "iopub.execute_input": "2023-03-28T08:11:03.897659Z",
     "iopub.status.busy": "2023-03-28T08:11:03.897340Z",
     "iopub.status.idle": "2023-03-28T08:11:03.908104Z",
     "shell.execute_reply": "2023-03-28T08:11:03.906805Z",
     "shell.execute_reply.started": "2023-03-28T08:11:03.897617Z"
    }
   },
   "outputs": [],
   "source": [
    "w2v_model.wv.most_similar(positive=[\"homer_simpson\"])"
   ]
  },
  {
   "cell_type": "markdown",
   "metadata": {
    "_uuid": "0e3e121e022f2f659cf97bba42cecd3f3c9afb01"
   },
   "source": [
    "<img src=\"https://vignette.wikia.nocookie.net/simpsons/images/0/0b/Marge_Simpson.png/revision/latest?cb=20180626055729\" alt=\"drawing\" width=\"150\"/>\n",
    "\n",
    "What about Marge now?"
   ]
  },
  {
   "cell_type": "code",
   "execution_count": null,
   "metadata": {
    "_uuid": "22595f98c675a9697243b7e826b2840e5fc3e5f5",
    "execution": {
     "iopub.execute_input": "2023-03-28T08:11:07.838027Z",
     "iopub.status.busy": "2023-03-28T08:11:07.837634Z",
     "iopub.status.idle": "2023-03-28T08:11:07.850323Z",
     "shell.execute_reply": "2023-03-28T08:11:07.848240Z",
     "shell.execute_reply.started": "2023-03-28T08:11:07.837961Z"
    }
   },
   "outputs": [],
   "source": [
    "w2v_model.wv.most_similar(positive=[\"marge\"])"
   ]
  },
  {
   "cell_type": "markdown",
   "metadata": {
    "_uuid": "2b4857ff1159695c72c22417cf52dc84e0dfc9ea"
   },
   "source": [
    "<img src=\"https://vignette.wikia.nocookie.net/simpsons/images/6/65/Bart_Simpson.png/revision/latest?cb=20180319061933\" alt=\"drawing\" width=\"100\"/>\n",
    "\n",
    "Let's check Bart now:"
   ]
  },
  {
   "cell_type": "code",
   "execution_count": null,
   "metadata": {
    "_uuid": "ac9ba47738e596dce6552099e76f303f28577943",
    "execution": {
     "iopub.execute_input": "2023-03-28T08:11:13.332997Z",
     "iopub.status.busy": "2023-03-28T08:11:13.332352Z",
     "iopub.status.idle": "2023-03-28T08:11:13.344370Z",
     "shell.execute_reply": "2023-03-28T08:11:13.342787Z",
     "shell.execute_reply.started": "2023-03-28T08:11:13.332942Z"
    }
   },
   "outputs": [],
   "source": [
    "w2v_model.wv.most_similar(positive=[\"bart\"])"
   ]
  },
  {
   "cell_type": "markdown",
   "metadata": {
    "_uuid": "c9afcf59e71f797f8e4d6d4b4ce39e359b19a450"
   },
   "source": [
    "Looks like it is making sense!\n",
    "\n",
    "<img src=\"https://vignette.wikia.nocookie.net/simpsons/images/9/9d/Groundskeeper_Willie.png/revision/latest?cb=20130424154035\" alt=\"drawing\" width=\"150\"/>\n",
    "\n",
    "Willie the groundskeeper for the last one:"
   ]
  },
  {
   "cell_type": "markdown",
   "metadata": {
    "_uuid": "d8b5937dfd7584f168a33060c435036cad5b390b"
   },
   "source": [
    "## Similarities:\n",
    "Here, we will see how similar are two words to each other :"
   ]
  },
  {
   "cell_type": "code",
   "execution_count": null,
   "metadata": {
    "_uuid": "367755f5c9e00de4bc5056c978f5b50a38c1368b",
    "execution": {
     "iopub.execute_input": "2023-03-28T08:11:20.423728Z",
     "iopub.status.busy": "2023-03-28T08:11:20.423415Z",
     "iopub.status.idle": "2023-03-28T08:11:20.430812Z",
     "shell.execute_reply": "2023-03-28T08:11:20.429576Z",
     "shell.execute_reply.started": "2023-03-28T08:11:20.423688Z"
    }
   },
   "outputs": [],
   "source": [
    "w2v_model.wv.similarity(\"moe_'s\", 'tavern')"
   ]
  },
  {
   "cell_type": "markdown",
   "metadata": {
    "_uuid": "d31383aa2f6310a38ec671f2ca4b0fcb195551dd"
   },
   "source": [
    "Who could forget Moe's tavern? Not Barney.\n",
    "\n",
    "<img src=\"https://vignette.wikia.nocookie.net/simpsons/images/6/6c/MaggieSimpson.PNG/revision/latest?cb=20180314210204\" alt=\"drawing\" width=\"100\"/>"
   ]
  },
  {
   "cell_type": "code",
   "execution_count": null,
   "metadata": {
    "_uuid": "349828078b5a438d93e5494478e88095913dc58e",
    "execution": {
     "iopub.execute_input": "2023-03-28T08:11:33.594508Z",
     "iopub.status.busy": "2023-03-28T08:11:33.594114Z",
     "iopub.status.idle": "2023-03-28T08:11:33.601969Z",
     "shell.execute_reply": "2023-03-28T08:11:33.600892Z",
     "shell.execute_reply.started": "2023-03-28T08:11:33.594443Z"
    }
   },
   "outputs": [],
   "source": [
    "w2v_model.wv.similarity('maggie', 'baby')"
   ]
  },
  {
   "cell_type": "markdown",
   "metadata": {
    "_uuid": "7d7842e5b5cab743db56ff120d75ad3974c429d8"
   },
   "source": [
    "Maggie is indeed the most renown baby in the Simpsons!"
   ]
  },
  {
   "cell_type": "code",
   "execution_count": null,
   "metadata": {
    "_uuid": "9ee5e2532214b20fef0a597bc5ad355762fcc281",
    "execution": {
     "iopub.execute_input": "2023-03-28T08:11:42.477446Z",
     "iopub.status.busy": "2023-03-28T08:11:42.476918Z",
     "iopub.status.idle": "2023-03-28T08:11:42.483061Z",
     "shell.execute_reply": "2023-03-28T08:11:42.482375Z",
     "shell.execute_reply.started": "2023-03-28T08:11:42.477233Z"
    }
   },
   "outputs": [],
   "source": [
    "w2v_model.wv.similarity('bart', 'nelson')"
   ]
  },
  {
   "cell_type": "markdown",
   "metadata": {
    "_uuid": "08a999d758ac687d626b631a8ce393eaa26f41e7"
   },
   "source": [
    "Bart and Nelson, though friends, are not that close, makes sense!\n",
    "\n",
    "## Odd-One-Out:\n",
    "\n",
    "Here, we ask our model to give us the word that does not belong to the list!\n",
    "\n",
    "Between Jimbo, Milhouse, and Kearney, who is the one who is not a bully?"
   ]
  },
  {
   "cell_type": "code",
   "execution_count": null,
   "metadata": {
    "_uuid": "d982e44d9c212b5ee09bcaebd050a725ab5e508e",
    "execution": {
     "iopub.execute_input": "2023-03-28T08:11:46.689190Z",
     "iopub.status.busy": "2023-03-28T08:11:46.688686Z",
     "iopub.status.idle": "2023-03-28T08:11:46.696718Z",
     "shell.execute_reply": "2023-03-28T08:11:46.695504Z",
     "shell.execute_reply.started": "2023-03-28T08:11:46.689130Z"
    }
   },
   "outputs": [],
   "source": [
    "w2v_model.wv.doesnt_match(['jimbo', 'milhouse', 'kearney'])"
   ]
  },
  {
   "cell_type": "markdown",
   "metadata": {
    "_uuid": "12d3c035c89718e70c193f095b46e38dccef6b0d"
   },
   "source": [
    "Milhouse of course!\n",
    "<img src=\"https://vignette.wikia.nocookie.net/simpsons/images/9/91/Milhouse_Van_Houten_2.png/revision/latest?cb=20180429212659\" alt=\"drawing\" width=\"150\"/>\n",
    "\n",
    "What if we compared the friendship between Nelson, Bart, and Milhouse?"
   ]
  },
  {
   "cell_type": "code",
   "execution_count": null,
   "metadata": {
    "_uuid": "cafd4a7bec6d6255ea3f5f06df951546c0d783a9",
    "execution": {
     "iopub.execute_input": "2023-03-28T08:11:57.144718Z",
     "iopub.status.busy": "2023-03-28T08:11:57.144386Z",
     "iopub.status.idle": "2023-03-28T08:11:57.151541Z",
     "shell.execute_reply": "2023-03-28T08:11:57.150215Z",
     "shell.execute_reply.started": "2023-03-28T08:11:57.144659Z"
    }
   },
   "outputs": [],
   "source": [
    "w2v_model.wv.doesnt_match([\"nelson\", \"bart\", \"milhouse\"])"
   ]
  },
  {
   "cell_type": "markdown",
   "metadata": {
    "_uuid": "01c0148dc758db74ed8078ca54e8393ada090c8c"
   },
   "source": [
    "Seems like Nelson is the odd one here!\n",
    "\n",
    "<img src=\"https://vignette.wikia.nocookie.net/simpsons/images/4/40/Picture0003.jpg/revision/latest?cb=20110623042517\" alt=\"drawing\" width=\"200\"/>\n",
    "\n",
    "Last but not least, how is the relationship between Homer and his two sister-in-laws?"
   ]
  },
  {
   "cell_type": "code",
   "execution_count": null,
   "metadata": {
    "_uuid": "445912f7d89b3cb1550926be161d134e6689f54f",
    "execution": {
     "iopub.execute_input": "2023-03-28T08:12:05.729325Z",
     "iopub.status.busy": "2023-03-28T08:12:05.728947Z",
     "iopub.status.idle": "2023-03-28T08:12:05.736464Z",
     "shell.execute_reply": "2023-03-28T08:12:05.735400Z",
     "shell.execute_reply.started": "2023-03-28T08:12:05.729256Z"
    }
   },
   "outputs": [],
   "source": [
    "w2v_model.wv.doesnt_match(['homer', 'patty', 'selma'])"
   ]
  },
  {
   "cell_type": "markdown",
   "metadata": {
    "_uuid": "df95cdff693e843ab4b4c174fea24029447573cd"
   },
   "source": [
    "Damn, they really do not like you Homer!\n",
    "\n",
    "## Analogy difference:\n",
    "Which word is to woman as homer is to marge?"
   ]
  },
  {
   "cell_type": "code",
   "execution_count": null,
   "metadata": {
    "_uuid": "812961e79dde9f2032f708755ca287c0aef838d0",
    "execution": {
     "iopub.execute_input": "2023-03-28T08:12:15.353260Z",
     "iopub.status.busy": "2023-03-28T08:12:15.352554Z",
     "iopub.status.idle": "2023-03-28T08:12:15.365475Z",
     "shell.execute_reply": "2023-03-28T08:12:15.364075Z",
     "shell.execute_reply.started": "2023-03-28T08:12:15.353183Z"
    }
   },
   "outputs": [],
   "source": [
    "w2v_model.wv.most_similar(positive=[\"woman\", \"homer\"], negative=[\"marge\"], topn=3)"
   ]
  },
  {
   "cell_type": "markdown",
   "metadata": {
    "_uuid": "5a4ff4a8c8c582c6d9c704a042e8cc5d18b7bd6c"
   },
   "source": [
    "\"man\" comes at the first position, that looks about right!\n",
    "\n",
    "Which word is to woman as bart is to man?"
   ]
  },
  {
   "cell_type": "code",
   "execution_count": null,
   "metadata": {
    "_uuid": "4cfef57b94b635abb58a4ff191785506c78ec9d9",
    "execution": {
     "iopub.execute_input": "2023-03-28T08:12:57.495281Z",
     "iopub.status.busy": "2023-03-28T08:12:57.494979Z",
     "iopub.status.idle": "2023-03-28T08:12:57.505134Z",
     "shell.execute_reply": "2023-03-28T08:12:57.503959Z",
     "shell.execute_reply.started": "2023-03-28T08:12:57.495241Z"
    }
   },
   "outputs": [],
   "source": [
    "w2v_model.wv.most_similar(positive=[\"woman\", \"bart\"], negative=[\"man\"], topn=3)"
   ]
  },
  {
   "cell_type": "markdown",
   "metadata": {
    "_uuid": "ef520bd7dd974d14afcb8e69266579ac0b703714"
   },
   "source": [
    "Lisa is Bart's sister, her male counterpart!\n",
    "<img src=\"https://vignette.wikia.nocookie.net/simpsons/images/5/57/Lisa_Simpson2.png/revision/latest?cb=20180319000458\" alt=\"drawing\" width=\"100\"/>"
   ]
  },
  {
   "cell_type": "markdown",
   "metadata": {
    "_uuid": "773c0acc8750ba8e728ff261f2e9ec39694c245c"
   },
   "source": [
    "### t-SNE visualizations:\n",
    "t-SNE is a non-linear dimensionality reduction algorithm that attempts to represent high-dimensional data and the underlying relationships between vectors in a lower-dimensional space.<br>\n",
    "Here is a good tutorial on it: https://medium.com/@luckylwk/visualising-high-dimensional-datasets-using-pca-and-t-sne-in-python-8ef87e7915b"
   ]
  },
  {
   "cell_type": "code",
   "execution_count": null,
   "metadata": {
    "_uuid": "27ec46110042fc28da900b1b344ae4e0692d5dc2",
    "execution": {
     "iopub.execute_input": "2023-03-28T08:13:01.743994Z",
     "iopub.status.busy": "2023-03-28T08:13:01.743574Z",
     "iopub.status.idle": "2023-03-28T08:13:02.566400Z",
     "shell.execute_reply": "2023-03-28T08:13:02.564890Z",
     "shell.execute_reply.started": "2023-03-28T08:13:01.743887Z"
    }
   },
   "outputs": [],
   "source": [
    "import numpy as np\n",
    "import matplotlib.pyplot as plt\n",
    "%matplotlib inline\n",
    " \n",
    "import seaborn as sns\n",
    "sns.set_style(\"darkgrid\")\n",
    "\n",
    "from sklearn.decomposition import PCA\n",
    "from sklearn.manifold import TSNE"
   ]
  },
  {
   "cell_type": "markdown",
   "metadata": {
    "_uuid": "22693eaa25253b38cee3c5cd5db6b6fdddb575a4"
   },
   "source": [
    "Our goal in this section is to plot our 300 dimensions vectors into 2 dimensional graphs, and see if we can spot interesting patterns.<br>\n",
    "For that we are going to use t-SNE implementation from scikit-learn.\n",
    "\n",
    "To make the visualizations more relevant, we will look at the relationships between a query word (in <font color='red'>**red**</font>), its most similar words in the model (in <font color=\"blue\">**blue**</font>), and other words from the vocabulary (in <font color='green'>**green**</font>)."
   ]
  },
  {
   "cell_type": "code",
   "execution_count": null,
   "metadata": {
    "_uuid": "489a7d160dcd92da0ce42a3b5b461368c9ffe5f1",
    "execution": {
     "iopub.execute_input": "2023-03-28T08:13:05.127522Z",
     "iopub.status.busy": "2023-03-28T08:13:05.127101Z",
     "iopub.status.idle": "2023-03-28T08:13:05.147412Z",
     "shell.execute_reply": "2023-03-28T08:13:05.146024Z",
     "shell.execute_reply.started": "2023-03-28T08:13:05.127456Z"
    }
   },
   "outputs": [],
   "source": [
    "def tsnescatterplot(model, word, list_names):\n",
    "    \"\"\" Plot in seaborn the results from the t-SNE dimensionality reduction algorithm of the vectors of a query word,\n",
    "    its list of most similar words, and a list of words.\n",
    "    \"\"\"\n",
    "    arrays = np.empty((0, 300), dtype='f')\n",
    "    word_labels = [word]\n",
    "    color_list  = ['red']\n",
    "\n",
    "    # adds the vector of the query word\n",
    "    arrays = np.append(arrays, model.wv.__getitem__([word]), axis=0)\n",
    "    \n",
    "    # gets list of most similar words\n",
    "    close_words = model.wv.most_similar([word])\n",
    "    \n",
    "    # adds the vector for each of the closest words to the array\n",
    "    for wrd_score in close_words:\n",
    "        wrd_vector = model.wv.__getitem__([wrd_score[0]])\n",
    "        word_labels.append(wrd_score[0])\n",
    "        color_list.append('blue')\n",
    "        arrays = np.append(arrays, wrd_vector, axis=0)\n",
    "    \n",
    "    # adds the vector for each of the words from list_names to the array\n",
    "    for wrd in list_names:\n",
    "        wrd_vector = model.wv.__getitem__([wrd])\n",
    "        word_labels.append(wrd)\n",
    "        color_list.append('green')\n",
    "        arrays = np.append(arrays, wrd_vector, axis=0)\n",
    "        \n",
    "    # Reduces the dimensionality from 300 to 50 dimensions with PCA\n",
    "    reduc = PCA(n_components=50).fit_transform(arrays)\n",
    "    \n",
    "    # Finds t-SNE coordinates for 2 dimensions\n",
    "    np.set_printoptions(suppress=True)\n",
    "    \n",
    "    Y = TSNE(n_components=2, random_state=0, perplexity=15).fit_transform(reduc)\n",
    "    \n",
    "    # Sets everything up to plot\n",
    "    df = pd.DataFrame({'x': [x for x in Y[:, 0]],\n",
    "                       'y': [y for y in Y[:, 1]],\n",
    "                       'words': word_labels,\n",
    "                       'color': color_list})\n",
    "    \n",
    "    fig, _ = plt.subplots()\n",
    "    fig.set_size_inches(9, 9)\n",
    "    \n",
    "    # Basic plot\n",
    "    p1 = sns.regplot(data=df,\n",
    "                     x=\"x\",\n",
    "                     y=\"y\",\n",
    "                     fit_reg=False,\n",
    "                     marker=\"o\",\n",
    "                     scatter_kws={'s': 40,\n",
    "                                  'facecolors': df['color']\n",
    "                                 }\n",
    "                    )\n",
    "    \n",
    "    # Adds annotations one by one with a loop\n",
    "    for line in range(0, df.shape[0]):\n",
    "         p1.text(df[\"x\"][line],\n",
    "                 df['y'][line],\n",
    "                 '  ' + df[\"words\"][line].title(),\n",
    "                 horizontalalignment='left',\n",
    "                 verticalalignment='bottom', size='medium',\n",
    "                 color=df['color'][line],\n",
    "                 weight='normal'\n",
    "                ).set_size(15)\n",
    "\n",
    "    \n",
    "    plt.xlim(Y[:, 0].min()-50, Y[:, 0].max()+50)\n",
    "    plt.ylim(Y[:, 1].min()-50, Y[:, 1].max()+50)\n",
    "            \n",
    "    plt.title('t-SNE visualization for {}'.format(word.title()))\n",
    "    "
   ]
  },
  {
   "cell_type": "markdown",
   "metadata": {
    "_uuid": "3943c170a5f5f09974d90c89bdb9ec761e63a416"
   },
   "source": [
    "Code inspired by: [[2]](#References:)\n",
    "\n",
    "## 10 Most similar words vs. 8 Random words:\n",
    "Let's compare where the vector representation of Homer, his 10 most similar words from the model, as well as 8 random ones, lies in a 2D graph:"
   ]
  },
  {
   "cell_type": "code",
   "execution_count": null,
   "metadata": {
    "_uuid": "18d788b2a92f94771a5f9485a885d44dfba62a94",
    "execution": {
     "iopub.execute_input": "2023-03-28T08:13:10.545963Z",
     "iopub.status.busy": "2023-03-28T08:13:10.545590Z",
     "iopub.status.idle": "2023-03-28T08:13:11.472867Z",
     "shell.execute_reply": "2023-03-28T08:13:11.471598Z",
     "shell.execute_reply.started": "2023-03-28T08:13:10.545894Z"
    }
   },
   "outputs": [],
   "source": [
    "tsnescatterplot(w2v_model, 'homer', ['dog', 'bird', 'ah', 'maude', 'bob', 'mel', 'apu', 'duff'])"
   ]
  },
  {
   "cell_type": "markdown",
   "metadata": {
    "_uuid": "c73fc2faaf0baecc84f02a97b50cb9ccefa48686"
   },
   "source": [
    "Interestingly, the 10 most similar words to Homer ends up around him, so does Apu and (sideshow) Bob, two recurrent characters.\n",
    "\n",
    "## 10 Most similar words vs. 10 Most dissimilar\n",
    "\n",
    "This time, let's compare where the vector representation of Maggie and her 10 most similar words from the model lies compare to the vector representation of the 10 most dissimilar words to Maggie:"
   ]
  },
  {
   "cell_type": "code",
   "execution_count": null,
   "metadata": {
    "_uuid": "10c77b072f7c281f2be919341be116565c20d8a8",
    "execution": {
     "iopub.execute_input": "2023-03-28T08:13:14.999247Z",
     "iopub.status.busy": "2023-03-28T08:13:14.998837Z",
     "iopub.status.idle": "2023-03-28T08:13:15.669465Z",
     "shell.execute_reply": "2023-03-28T08:13:15.668306Z",
     "shell.execute_reply.started": "2023-03-28T08:13:14.999179Z"
    }
   },
   "outputs": [],
   "source": [
    "tsnescatterplot(w2v_model, 'maggie', [i[0] for i in w2v_model.wv.most_similar(negative=[\"maggie\"])])"
   ]
  },
  {
   "cell_type": "markdown",
   "metadata": {
    "_uuid": "87315bfbaceb3733bd7af035db6c59cfc4b1ba7f"
   },
   "source": [
    "Neat! Maggie and her most similar words form a distinctive cluster from the most dissimilar words, it is a really encouraging plot!\n",
    "\n",
    "## 10 Most similar words vs. 11th to 20th Most similar words:\n",
    "\n",
    "Finally, we are going to plot the most similar words to Mr. Burns ranked 1st to 10th versus the ones ranked 11th to 20th:\n",
    "\n",
    "(PS: Mr. Burns became mr_burn after the preprocessing)"
   ]
  },
  {
   "cell_type": "code",
   "execution_count": null,
   "metadata": {
    "_uuid": "e6f0bc598922f4f2cd17d2511560242a3c35fdd9",
    "execution": {
     "iopub.execute_input": "2023-03-28T08:13:18.453231Z",
     "iopub.status.busy": "2023-03-28T08:13:18.451947Z",
     "iopub.status.idle": "2023-03-28T08:13:19.136441Z",
     "shell.execute_reply": "2023-03-28T08:13:19.135498Z",
     "shell.execute_reply.started": "2023-03-28T08:13:18.453145Z"
    }
   },
   "outputs": [],
   "source": [
    "tsnescatterplot(w2v_model, \"mr_burn\", [t[0] for t in w2v_model.wv.most_similar(positive=[\"mr_burn\"], topn=20)][10:])"
   ]
  },
  {
   "cell_type": "markdown",
   "metadata": {
    "_uuid": "011aa35b717d985f1d9fb820208531222055ff7b"
   },
   "source": [
    "As we can see, and that is very nice, all the 20 words are forming one cluster around Mr. Burns.\n",
    "\n",
    "# Final Thoughts\n",
    "\n",
    "I hope you found this tutorial useful and had as much fun reading it as I had writing it. Please do not hesitate to leave any comments, questions or suggestions you might have. See you around!\n",
    "\n",
    "Also, please check [Supportiv](http://www.supportiv.com) around! (Simpson-ized logo)\n",
    "\n",
    "<img src=\"https://fontmeme.com/permalink/180904/cc3d27a8aaa88189e764ee9d02331d0d.png\" alt=\"drawing\" width=\"500\"/>\n",
    "\n",
    "\n",
    "# Materials for more in depths understanding:\n",
    "* Word Embeddings introduction: https://www.analyticsvidhya.com/blog/2017/06/word-embeddings-count-word2veec/\n",
    "* Word2Vec introduction: https://skymind.ai/wiki/word2vec\n",
    "* Another Word2Vec introduction: http://mccormickml.com/2016/04/19/word2vec-tutorial-the-skip-gram-model/\n",
    "* A great Gensim implentation tutorial: http://kavita-ganesan.com/gensim-word2vec-tutorial-starter-code/#.W467ScBjM2x\n",
    "* Original articles from Mikolov et al.: https://arxiv.org/abs/1301.3781 and https://arxiv.org/abs/1310.4546\n",
    "\n",
    "\n",
    "# Acknowledgements\n",
    "\n",
    "* [Pouria Mojabi](https://www.linkedin.com/in/pouria-mojabi-1873615/), co-fouder of Supportiv Inc.\n",
    "\n",
    "# References:\n",
    "* [1]. Neural Net picture: McCormick, C. (2016, April 19). Word2Vec Tutorial - The Skip-Gram Model. Retrieved from http://www.mccormickml.com\n",
    "* [2]. Aneesha Bakharia Medium article: https://medium.com/@aneesha/using-tsne-to-plot-a-subset-of-similar-words-from-word2vec-bb8eeaea6229\n",
    "\n",
    "# End"
   ]
  }
 ],
 "metadata": {
  "kernelspec": {
   "display_name": "Python 3",
   "language": "python",
   "name": "python3"
  },
  "language_info": {
   "codemirror_mode": {
    "name": "ipython",
    "version": 3
   },
   "file_extension": ".py",
   "mimetype": "text/x-python",
   "name": "python",
   "nbconvert_exporter": "python",
   "pygments_lexer": "ipython3",
   "version": "3.6.3"
  }
 },
 "nbformat": 4,
 "nbformat_minor": 4
}